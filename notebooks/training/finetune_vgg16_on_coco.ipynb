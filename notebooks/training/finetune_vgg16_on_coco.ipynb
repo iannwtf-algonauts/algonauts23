{
 "cells": [
  {
   "cell_type": "code",
   "execution_count": null,
   "metadata": {},
   "outputs": [],
   "source": [
    "import tensorflow as tf\n",
    "import tensorflow_datasets as tfds\n",
    "import tensorflow_addons as tfa\n",
    "from tensorflow.keras.layers import Conv2D, MaxPooling2D, Flatten, Dense, Dropout, BatchNormalization, GlobalAveragePooling2D\n",
    "import matplotlib.pyplot as plt"
   ]
  },
  {
   "cell_type": "code",
   "execution_count": null,
   "metadata": {},
   "outputs": [],
   "source": [
    "# Load COCO 2017 dataset with annotations\n",
    "base_dir = '../..'\n",
    "dataset, info = tfds.load('coco/2017', with_info=True, data_dir=f'{base_dir}/data/tensorflow_datasets')"
   ]
  },
  {
   "cell_type": "code",
   "execution_count": null,
   "outputs": [],
   "source": [
    "from src.algonauts.data_processors.coco_dataset import create_datasets_from_coco\n",
    "from src.algonauts.data_processors.image_transforms import transform_vgg16\n",
    "\n",
    "batch_size = 32\n",
    "num_classes = 80  # number of classes in COCO dataset\n",
    "data_dir = '/notebooks/tensorflow_datasets'\n",
    "\n",
    "# Get training and validation datasets\n",
    "train_ds, val_ds = create_datasets_from_coco(dataset, num_classes, transform_vgg16, batch_size)"
   ],
   "metadata": {
    "collapsed": false
   }
  },
  {
   "attachments": {},
   "cell_type": "markdown",
   "metadata": {},
   "source": [
    "## Load pretrained architecture and change the last layers to fine-tune the model or freeze the layers and train only the last layers (VGG16 example)"
   ]
  },
  {
   "cell_type": "code",
   "execution_count": null,
   "metadata": {},
   "outputs": [],
   "source": [
    "# Load the VGG16 model without the top layers\n",
    "base_model = tf.keras.applications.VGG16(weights=\"imagenet\", include_top=False, input_shape=(224, 224, 3))\n",
    "\n",
    "# Freeze the base model\n",
    "base_model.trainable = False\n",
    "\n",
    "# Add top layers for multi-label classification\n",
    "x = base_model.output\n",
    "x = GlobalAveragePooling2D()(x)\n",
    "x = Dense(2048, activation='relu', name='dense_additional1')(x)\n",
    "x = Dropout(0.5)(x)\n",
    "x = Dense(1024, activation='relu', name='dense_additional2')(x)\n",
    "x = Dropout(0.5)(x)\n",
    "predictions = Dense(num_classes, activation='sigmoid')(x)\n",
    "\n",
    "# Create the final model\n",
    "model = tf.keras.Model(inputs=base_model.input, outputs=predictions)\n",
    "\n",
    "# Print the layer names\n",
    "print(*(layer.name for layer in model.layers), sep=' -> ')\n",
    "\n",
    "optimiser = tf.keras.optimizers.Adam(learning_rate=1e-5)\n",
    "f1_score = tfa.metrics.F1Score(num_classes=num_classes, average='macro')\n",
    "# Compile the model\n",
    "model.compile(optimizer=optimiser, loss='binary_crossentropy', metrics=[f1_score])"
   ]
  },
  {
   "attachments": {},
   "cell_type": "markdown",
   "metadata": {},
   "source": [
    "## Train, save and plot loss/accuracy on the training and validation set"
   ]
  },
  {
   "cell_type": "code",
   "execution_count": null,
   "metadata": {},
   "outputs": [],
   "source": [
    "history = model.fit(train_ds, epochs=10, validation_data=val_ds)\n",
    "model.save(f'{base_dir}/data/models/vgg16_imagenet_trained_on_coco.h5')\n",
    "\n",
    "# Plot training & validation loss values\n",
    "plt.plot(history.history['loss'])\n",
    "plt.plot(history.history['val_loss'])\n",
    "plt.title('Model loss')\n",
    "plt.ylabel('Loss')\n",
    "plt.xlabel('Epoch')\n",
    "plt.legend(['Train', 'Validation'], loc='upper left')\n",
    "plt.show()\n",
    "\n",
    "# Plot training & validation accuracy values\n",
    "plt.plot(history.history[f1_score.name])\n",
    "plt.plot(history.history[f'val_{f1_score.name}'])\n",
    "plt.title('Model accuracy')\n",
    "plt.ylabel('Accuracy')\n",
    "plt.xlabel('Epoch')\n",
    "plt.legend(['Train', 'Validation'], loc='upper left')\n",
    "plt.show()\n"
   ]
  }
 ],
 "metadata": {
  "kernelspec": {
   "display_name": "Python 3 (ipykernel)",
   "language": "python",
   "name": "python3"
  },
  "language_info": {
   "codemirror_mode": {
    "name": "ipython",
    "version": 3
   },
   "file_extension": ".py",
   "mimetype": "text/x-python",
   "name": "python",
   "nbconvert_exporter": "python",
   "pygments_lexer": "ipython3",
   "version": "3.9.16"
  },
  "orig_nbformat": 4
 },
 "nbformat": 4,
 "nbformat_minor": 2
}
