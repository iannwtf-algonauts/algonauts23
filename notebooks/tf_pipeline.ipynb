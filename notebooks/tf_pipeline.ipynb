{
 "cells": [
  {
   "cell_type": "code",
   "execution_count": 1,
   "metadata": {},
   "outputs": [],
   "source": [
    "import src.algonauts.data_processors.image_transforms\n",
    "from src.algonauts.models import model_loaders"
   ]
  },
  {
   "cell_type": "code",
   "execution_count": 2,
   "metadata": {},
   "outputs": [],
   "source": [
    "experiment = 'vgg_imagenet'\n",
    "batch_size = 300"
   ]
  },
  {
   "cell_type": "code",
   "execution_count": 3,
   "outputs": [],
   "source": [
    "platform = 'jupyter_notebook' #@param ['colab', 'paperspace'] {allow-input: true}\n",
    "\n",
    "if platform == 'jupyter_notebook':\n",
    "    challenge_data_dir = '../data/algonauts_2023_challenge_data'\n",
    "    exp_output_dir = f'../data/out/{experiment}'\n",
    "\n",
    "if platform == 'paperspace':\n",
    "    challenge_data_dir = '/storage/algonauts_2023_challenge_data'\n",
    "    exp_output_dir = f'/notebooks/data/out/{experiment}'"
   ],
   "metadata": {
    "collapsed": false
   }
  },
  {
   "attachments": {},
   "cell_type": "markdown",
   "metadata": {},
   "source": [
    "## Specify model and appropriate image preprocessing steps\n",
    "Define a function to load and return the model, printing its layers.\n",
    "Here we first load the model and print its nodes"
   ]
  },
  {
   "attachments": {},
   "cell_type": "markdown",
   "metadata": {},
   "source": [
    "### Choose to load a pretrained model from keras.applications"
   ]
  },
  {
   "cell_type": "code",
   "execution_count": 4,
   "metadata": {},
   "outputs": [],
   "source": [
    "model_loader = lambda: model_loaders.load_vgg16()"
   ]
  },
  {
   "attachments": {},
   "cell_type": "markdown",
   "metadata": {},
   "source": [
    "### Or choose to load a model from file"
   ]
  },
  {
   "cell_type": "code",
   "execution_count": null,
   "metadata": {},
   "outputs": [],
   "source": [
    "model_filename = 'model.h5'\n",
    "transform_image = src.algonauts.data_processors.image_transforms.transform_alexnet\n",
    "model_loader = lambda: model_loaders.load_from_file(model_filename, transform_image)"
   ]
  },
  {
   "attachments": {},
   "cell_type": "markdown",
   "metadata": {},
   "source": [
    "### Print the model layers"
   ]
  },
  {
   "cell_type": "code",
   "execution_count": 5,
   "metadata": {},
   "outputs": [
    {
     "name": "stderr",
     "output_type": "stream",
     "text": [
      "2023-03-24 13:24:46.004653: I tensorflow/core/common_runtime/pluggable_device/pluggable_device_factory.cc:306] Could not identify NUMA node of platform GPU ID 0, defaulting to 0. Your kernel may not have been built with NUMA support.\n",
      "2023-03-24 13:24:46.005366: I tensorflow/core/common_runtime/pluggable_device/pluggable_device_factory.cc:272] Created TensorFlow device (/job:localhost/replica:0/task:0/device:GPU:0 with 0 MB memory) -> physical PluggableDevice (device: 0, name: METAL, pci bus id: <undefined>)\n"
     ]
    },
    {
     "name": "stdout",
     "output_type": "stream",
     "text": [
      "Metal device set to: Apple M1 Pro\n",
      "input_1 -> block1_conv1 -> block1_conv2 -> block1_pool -> block2_conv1 -> block2_conv2 -> block2_pool -> block3_conv1 -> block3_conv2 -> block3_conv3 -> block3_pool -> block4_conv1 -> block4_conv2 -> block4_conv3 -> block4_pool -> block5_conv1 -> block5_conv2 -> block5_conv3 -> block5_pool\n"
     ]
    }
   ],
   "source": [
    "model, _ = model_loader()\n",
    "print(*(layer.name for layer in model.layers), sep=' -> ')\n",
    "del model"
   ]
  },
  {
   "cell_type": "markdown",
   "metadata": {},
   "source": [
    "## Select layers and subjects\n",
    "Now let's define which layer(s) we will pick from, and which subject(s) to process"
   ]
  },
  {
   "cell_type": "code",
   "execution_count": 6,
   "metadata": {},
   "outputs": [],
   "source": [
    "layers = ['block5_pool']\n",
    "subjects = [\n",
    "    1, \n",
    "    # 2, 3, 4, 5, 6, 7, 8\n",
    "    ]\n"
   ]
  },
  {
   "cell_type": "markdown",
   "metadata": {},
   "source": [
    "## Run pipeline"
   ]
  },
  {
   "cell_type": "code",
   "execution_count": 7,
   "metadata": {},
   "outputs": [
    {
     "name": "stdout",
     "output_type": "stream",
     "text": [
      "Running for layer block1_pool\n",
      "Running for subject 1\n",
      "Training images: 9841\n",
      "Test images: 159\n",
      "LH training fMRI data shape:\n",
      "(9841, 19004)\n",
      "(Training stimulus images × LH vertices)\n",
      "\n",
      "RH training fMRI data shape:\n",
      "(9841, 20544)\n",
      "(Training stimulus images × RH vertices)\n",
      "Training images: 9841\n",
      "Test images: 159\n",
      "Training stimulus images: 8856\n",
      "\n",
      "Validation stimulus images: 985\n",
      "\n",
      "Test stimulus images: 159\n",
      "Loading datasets...\n",
      "Found 9841 files belonging to 1 classes.\n",
      "Using 8857 files for training.\n",
      "Using 984 files for validation.\n",
      "Found 159 files belonging to 1 classes.\n",
      "Datasets loaded\n",
      "Training Scaler\n"
     ]
    },
    {
     "name": "stderr",
     "output_type": "stream",
     "text": [
      "  0%|          | 0/30 [00:00<?, ?it/s]2023-03-24 01:00:31.528714: W tensorflow/core/platform/profile_utils/cpu_utils.cc:128] Failed to get CPU frequency: 0 Hz\n",
      "2023-03-24 01:00:32.943508: I tensorflow/core/grappler/optimizers/custom_graph_optimizer_registry.cc:114] Plugin optimizer for device_type GPU is enabled.\n",
      "100%|██████████| 30/30 [02:13<00:00,  4.45s/it]\n"
     ]
    },
    {
     "name": "stdout",
     "output_type": "stream",
     "text": [
      "Scaler training finished\n",
      "Training PCA\n"
     ]
    },
    {
     "name": "stderr",
     "output_type": "stream",
     "text": [
      "100%|██████████| 30/30 [5:37:32<00:00, 675.07s/it]   \n"
     ]
    },
    {
     "name": "stdout",
     "output_type": "stream",
     "text": [
      "PCA training finished\n",
      "Extracting and transforming features...\n",
      "Features extracted and transformed\n",
      "Fitting regression...\n"
     ]
    },
    {
     "ename": "ValueError",
     "evalue": "Found input variables with inconsistent numbers of samples: [8857, 8856]",
     "output_type": "error",
     "traceback": [
      "\u001B[0;31m---------------------------------------------------------------------------\u001B[0m",
      "\u001B[0;31mValueError\u001B[0m                                Traceback (most recent call last)",
      "Cell \u001B[0;32mIn [7], line 3\u001B[0m\n\u001B[1;32m      1\u001B[0m \u001B[38;5;28;01mfrom\u001B[39;00m \u001B[38;5;21;01msrc\u001B[39;00m\u001B[38;5;21;01m.\u001B[39;00m\u001B[38;5;21;01malgonauts\u001B[39;00m\u001B[38;5;21;01m.\u001B[39;00m\u001B[38;5;21;01mpipelines\u001B[39;00m\u001B[38;5;21;01m.\u001B[39;00m\u001B[38;5;21;01mtf_pipeline\u001B[39;00m \u001B[38;5;28;01mimport\u001B[39;00m run_tf_pipeline\n\u001B[0;32m----> 3\u001B[0m \u001B[43mrun_tf_pipeline\u001B[49m\u001B[43m(\u001B[49m\u001B[43mbatch_size\u001B[49m\u001B[38;5;241;43m=\u001B[39;49m\u001B[43mbatch_size\u001B[49m\u001B[43m,\u001B[49m\u001B[43m \u001B[49m\u001B[43mmodel_loader\u001B[49m\u001B[38;5;241;43m=\u001B[39;49m\u001B[43mmodel_loader\u001B[49m\u001B[43m,\u001B[49m\u001B[43m \u001B[49m\u001B[43mlayers\u001B[49m\u001B[38;5;241;43m=\u001B[39;49m\u001B[43mlayers\u001B[49m\u001B[43m,\u001B[49m\u001B[43m \u001B[49m\u001B[43msubjects\u001B[49m\u001B[38;5;241;43m=\u001B[39;49m\u001B[43msubjects\u001B[49m\u001B[43m,\u001B[49m\n\u001B[1;32m      4\u001B[0m \u001B[43m                \u001B[49m\u001B[43mchallenge_data_dir\u001B[49m\u001B[38;5;241;43m=\u001B[39;49m\u001B[43mchallenge_data_dir\u001B[49m\u001B[43m,\u001B[49m\n\u001B[1;32m      5\u001B[0m \u001B[43m                \u001B[49m\u001B[43mexp_output_dir\u001B[49m\u001B[38;5;241;43m=\u001B[39;49m\u001B[43mexp_output_dir\u001B[49m\u001B[43m)\u001B[49m\n",
      "File \u001B[0;32m~/DataspellProjects/Algonauts2023/algonauts23/src/algonauts/pipelines/tf_pipeline.py:55\u001B[0m, in \u001B[0;36mrun_tf_pipeline\u001B[0;34m(batch_size, model_loader, layers, subjects, challenge_data_dir, exp_output_dir)\u001B[0m\n\u001B[1;32m     52\u001B[0m \u001B[38;5;66;03m# Delete model to free up memory\u001B[39;00m\n\u001B[1;32m     53\u001B[0m \u001B[38;5;28;01mdel\u001B[39;00m model, pca\n\u001B[0;32m---> 55\u001B[0m \u001B[43mpredict_and_write\u001B[49m\u001B[43m(\u001B[49m\u001B[43mdataset\u001B[49m\u001B[43m,\u001B[49m\u001B[43m \u001B[49m\u001B[43mtrain_features\u001B[49m\u001B[43m,\u001B[49m\u001B[43m \u001B[49m\u001B[43mval_features\u001B[49m\u001B[43m,\u001B[49m\u001B[43m \u001B[49m\u001B[43mtest_features\u001B[49m\u001B[43m)\u001B[49m\n",
      "File \u001B[0;32m~/DataspellProjects/Algonauts2023/algonauts23/src/algonauts/encoders/linear_encoder.py:14\u001B[0m, in \u001B[0;36mpredict_and_write\u001B[0;34m(dataset, features_train, features_val, features_test)\u001B[0m\n\u001B[1;32m     11\u001B[0m \u001B[38;5;28;01mdef\u001B[39;00m \u001B[38;5;21mpredict_and_write\u001B[39m(dataset, features_train, features_val, features_test):\n\u001B[1;32m     12\u001B[0m     \u001B[38;5;66;03m# Fit linear regressors for each hemisphere\u001B[39;00m\n\u001B[1;32m     13\u001B[0m     \u001B[38;5;28mprint\u001B[39m(\u001B[38;5;124m\"\u001B[39m\u001B[38;5;124mFitting regression...\u001B[39m\u001B[38;5;124m\"\u001B[39m)\n\u001B[0;32m---> 14\u001B[0m     reg_lh \u001B[38;5;241m=\u001B[39m \u001B[43mRidge\u001B[49m\u001B[43m(\u001B[49m\u001B[43m)\u001B[49m\u001B[38;5;241;43m.\u001B[39;49m\u001B[43mfit\u001B[49m\u001B[43m(\u001B[49m\u001B[43mfeatures_train\u001B[49m\u001B[43m,\u001B[49m\u001B[43m \u001B[49m\u001B[43mdataset\u001B[49m\u001B[38;5;241;43m.\u001B[39;49m\u001B[43mlh_fmri_train\u001B[49m\u001B[43m)\u001B[49m\n\u001B[1;32m     15\u001B[0m     reg_rh \u001B[38;5;241m=\u001B[39m Ridge()\u001B[38;5;241m.\u001B[39mfit(features_train, dataset\u001B[38;5;241m.\u001B[39mrh_fmri_train)\n\u001B[1;32m     16\u001B[0m     \u001B[38;5;28mprint\u001B[39m(\u001B[38;5;124m\"\u001B[39m\u001B[38;5;124mFinished fitting regression.\u001B[39m\u001B[38;5;124m\"\u001B[39m)\n",
      "File \u001B[0;32m~/miniconda3/envs/algonauts-tf-clone/lib/python3.10/site-packages/sklearn/linear_model/_ridge.py:1126\u001B[0m, in \u001B[0;36mRidge.fit\u001B[0;34m(self, X, y, sample_weight)\u001B[0m\n\u001B[1;32m   1123\u001B[0m \u001B[38;5;28mself\u001B[39m\u001B[38;5;241m.\u001B[39m_validate_params()\n\u001B[1;32m   1125\u001B[0m _accept_sparse \u001B[38;5;241m=\u001B[39m _get_valid_accept_sparse(sparse\u001B[38;5;241m.\u001B[39missparse(X), \u001B[38;5;28mself\u001B[39m\u001B[38;5;241m.\u001B[39msolver)\n\u001B[0;32m-> 1126\u001B[0m X, y \u001B[38;5;241m=\u001B[39m \u001B[38;5;28;43mself\u001B[39;49m\u001B[38;5;241;43m.\u001B[39;49m\u001B[43m_validate_data\u001B[49m\u001B[43m(\u001B[49m\n\u001B[1;32m   1127\u001B[0m \u001B[43m    \u001B[49m\u001B[43mX\u001B[49m\u001B[43m,\u001B[49m\n\u001B[1;32m   1128\u001B[0m \u001B[43m    \u001B[49m\u001B[43my\u001B[49m\u001B[43m,\u001B[49m\n\u001B[1;32m   1129\u001B[0m \u001B[43m    \u001B[49m\u001B[43maccept_sparse\u001B[49m\u001B[38;5;241;43m=\u001B[39;49m\u001B[43m_accept_sparse\u001B[49m\u001B[43m,\u001B[49m\n\u001B[1;32m   1130\u001B[0m \u001B[43m    \u001B[49m\u001B[43mdtype\u001B[49m\u001B[38;5;241;43m=\u001B[39;49m\u001B[43m[\u001B[49m\u001B[43mnp\u001B[49m\u001B[38;5;241;43m.\u001B[39;49m\u001B[43mfloat64\u001B[49m\u001B[43m,\u001B[49m\u001B[43m \u001B[49m\u001B[43mnp\u001B[49m\u001B[38;5;241;43m.\u001B[39;49m\u001B[43mfloat32\u001B[49m\u001B[43m]\u001B[49m\u001B[43m,\u001B[49m\n\u001B[1;32m   1131\u001B[0m \u001B[43m    \u001B[49m\u001B[43mmulti_output\u001B[49m\u001B[38;5;241;43m=\u001B[39;49m\u001B[38;5;28;43;01mTrue\u001B[39;49;00m\u001B[43m,\u001B[49m\n\u001B[1;32m   1132\u001B[0m \u001B[43m    \u001B[49m\u001B[43my_numeric\u001B[49m\u001B[38;5;241;43m=\u001B[39;49m\u001B[38;5;28;43;01mTrue\u001B[39;49;00m\u001B[43m,\u001B[49m\n\u001B[1;32m   1133\u001B[0m \u001B[43m\u001B[49m\u001B[43m)\u001B[49m\n\u001B[1;32m   1134\u001B[0m \u001B[38;5;28;01mreturn\u001B[39;00m \u001B[38;5;28msuper\u001B[39m()\u001B[38;5;241m.\u001B[39mfit(X, y, sample_weight\u001B[38;5;241m=\u001B[39msample_weight)\n",
      "File \u001B[0;32m~/miniconda3/envs/algonauts-tf-clone/lib/python3.10/site-packages/sklearn/base.py:554\u001B[0m, in \u001B[0;36mBaseEstimator._validate_data\u001B[0;34m(self, X, y, reset, validate_separately, **check_params)\u001B[0m\n\u001B[1;32m    552\u001B[0m         y \u001B[38;5;241m=\u001B[39m check_array(y, input_name\u001B[38;5;241m=\u001B[39m\u001B[38;5;124m\"\u001B[39m\u001B[38;5;124my\u001B[39m\u001B[38;5;124m\"\u001B[39m, \u001B[38;5;241m*\u001B[39m\u001B[38;5;241m*\u001B[39mcheck_y_params)\n\u001B[1;32m    553\u001B[0m     \u001B[38;5;28;01melse\u001B[39;00m:\n\u001B[0;32m--> 554\u001B[0m         X, y \u001B[38;5;241m=\u001B[39m \u001B[43mcheck_X_y\u001B[49m\u001B[43m(\u001B[49m\u001B[43mX\u001B[49m\u001B[43m,\u001B[49m\u001B[43m \u001B[49m\u001B[43my\u001B[49m\u001B[43m,\u001B[49m\u001B[43m \u001B[49m\u001B[38;5;241;43m*\u001B[39;49m\u001B[38;5;241;43m*\u001B[39;49m\u001B[43mcheck_params\u001B[49m\u001B[43m)\u001B[49m\n\u001B[1;32m    555\u001B[0m     out \u001B[38;5;241m=\u001B[39m X, y\n\u001B[1;32m    557\u001B[0m \u001B[38;5;28;01mif\u001B[39;00m \u001B[38;5;129;01mnot\u001B[39;00m no_val_X \u001B[38;5;129;01mand\u001B[39;00m check_params\u001B[38;5;241m.\u001B[39mget(\u001B[38;5;124m\"\u001B[39m\u001B[38;5;124mensure_2d\u001B[39m\u001B[38;5;124m\"\u001B[39m, \u001B[38;5;28;01mTrue\u001B[39;00m):\n",
      "File \u001B[0;32m~/miniconda3/envs/algonauts-tf-clone/lib/python3.10/site-packages/sklearn/utils/validation.py:1122\u001B[0m, in \u001B[0;36mcheck_X_y\u001B[0;34m(X, y, accept_sparse, accept_large_sparse, dtype, order, copy, force_all_finite, ensure_2d, allow_nd, multi_output, ensure_min_samples, ensure_min_features, y_numeric, estimator)\u001B[0m\n\u001B[1;32m   1104\u001B[0m X \u001B[38;5;241m=\u001B[39m check_array(\n\u001B[1;32m   1105\u001B[0m     X,\n\u001B[1;32m   1106\u001B[0m     accept_sparse\u001B[38;5;241m=\u001B[39maccept_sparse,\n\u001B[0;32m   (...)\u001B[0m\n\u001B[1;32m   1117\u001B[0m     input_name\u001B[38;5;241m=\u001B[39m\u001B[38;5;124m\"\u001B[39m\u001B[38;5;124mX\u001B[39m\u001B[38;5;124m\"\u001B[39m,\n\u001B[1;32m   1118\u001B[0m )\n\u001B[1;32m   1120\u001B[0m y \u001B[38;5;241m=\u001B[39m _check_y(y, multi_output\u001B[38;5;241m=\u001B[39mmulti_output, y_numeric\u001B[38;5;241m=\u001B[39my_numeric, estimator\u001B[38;5;241m=\u001B[39mestimator)\n\u001B[0;32m-> 1122\u001B[0m \u001B[43mcheck_consistent_length\u001B[49m\u001B[43m(\u001B[49m\u001B[43mX\u001B[49m\u001B[43m,\u001B[49m\u001B[43m \u001B[49m\u001B[43my\u001B[49m\u001B[43m)\u001B[49m\n\u001B[1;32m   1124\u001B[0m \u001B[38;5;28;01mreturn\u001B[39;00m X, y\n",
      "File \u001B[0;32m~/miniconda3/envs/algonauts-tf-clone/lib/python3.10/site-packages/sklearn/utils/validation.py:397\u001B[0m, in \u001B[0;36mcheck_consistent_length\u001B[0;34m(*arrays)\u001B[0m\n\u001B[1;32m    395\u001B[0m uniques \u001B[38;5;241m=\u001B[39m np\u001B[38;5;241m.\u001B[39munique(lengths)\n\u001B[1;32m    396\u001B[0m \u001B[38;5;28;01mif\u001B[39;00m \u001B[38;5;28mlen\u001B[39m(uniques) \u001B[38;5;241m>\u001B[39m \u001B[38;5;241m1\u001B[39m:\n\u001B[0;32m--> 397\u001B[0m     \u001B[38;5;28;01mraise\u001B[39;00m \u001B[38;5;167;01mValueError\u001B[39;00m(\n\u001B[1;32m    398\u001B[0m         \u001B[38;5;124m\"\u001B[39m\u001B[38;5;124mFound input variables with inconsistent numbers of samples: \u001B[39m\u001B[38;5;132;01m%r\u001B[39;00m\u001B[38;5;124m\"\u001B[39m\n\u001B[1;32m    399\u001B[0m         \u001B[38;5;241m%\u001B[39m [\u001B[38;5;28mint\u001B[39m(l) \u001B[38;5;28;01mfor\u001B[39;00m l \u001B[38;5;129;01min\u001B[39;00m lengths]\n\u001B[1;32m    400\u001B[0m     )\n",
      "\u001B[0;31mValueError\u001B[0m: Found input variables with inconsistent numbers of samples: [8857, 8856]"
     ]
    }
   ],
   "source": [
    "from src.algonauts.pipelines.tf_pipeline import run_tf_pipeline\n",
    "\n",
    "run_tf_pipeline(batch_size=batch_size, model_loader=model_loader, layers=layers, subjects=subjects,\n",
    "                challenge_data_dir=challenge_data_dir,\n",
    "                exp_output_dir=exp_output_dir)"
   ]
  },
  {
   "cell_type": "markdown",
   "source": [
    "## Print best layers"
   ],
   "metadata": {
    "collapsed": false
   }
  },
  {
   "cell_type": "code",
   "execution_count": 38,
   "metadata": {},
   "outputs": [
    {
     "name": "stdout",
     "output_type": "stream",
     "text": [
      "{\n",
      "  \"LH\": {\n",
      "    \"V1v\": {\n",
      "      \"layer\": \"block2_pool\",\n",
      "      \"value\": 0.5905791030486138\n",
      "    },\n",
      "    \"V1d\": {\n",
      "      \"layer\": \"block2_pool\",\n",
      "      \"value\": 0.5990486552463073\n",
      "    },\n",
      "    \"V2v\": {\n",
      "      \"layer\": \"block3_pool\",\n",
      "      \"value\": 0.5282678641036374\n",
      "    },\n",
      "    \"V2d\": {\n",
      "      \"layer\": \"block3_pool\",\n",
      "      \"value\": 0.5175909098720242\n",
      "    },\n",
      "    \"V3v\": {\n",
      "      \"layer\": \"block3_pool\",\n",
      "      \"value\": 0.5141076787726454\n",
      "    },\n",
      "    \"V3d\": {\n",
      "      \"layer\": \"block4_pool\",\n",
      "      \"value\": 0.5065629532466085\n",
      "    },\n",
      "    \"hV4\": {\n",
      "      \"layer\": \"block4_pool\",\n",
      "      \"value\": 0.44591214364383464\n",
      "    },\n",
      "    \"EBA\": {\n",
      "      \"layer\": \"block5_pool\",\n",
      "      \"value\": 0.4846002619845918\n",
      "    },\n",
      "    \"FBA-1\": {\n",
      "      \"layer\": \"block5_pool\",\n",
      "      \"value\": 0.4077181141971304\n",
      "    },\n",
      "    \"FBA-2\": {\n",
      "      \"layer\": null,\n",
      "      \"value\": null\n",
      "    },\n",
      "    \"mTL-bodies\": {\n",
      "      \"layer\": null,\n",
      "      \"value\": null\n",
      "    },\n",
      "    \"OFA\": {\n",
      "      \"layer\": \"block4_pool\",\n",
      "      \"value\": 0.43446271378361234\n",
      "    },\n",
      "    \"FFA-1\": {\n",
      "      \"layer\": \"block5_pool\",\n",
      "      \"value\": 0.47813203915081814\n",
      "    },\n",
      "    \"FFA-2\": {\n",
      "      \"layer\": null,\n",
      "      \"value\": null\n",
      "    },\n",
      "    \"mTL-faces\": {\n",
      "      \"layer\": null,\n",
      "      \"value\": null\n",
      "    },\n",
      "    \"aTL-faces\": {\n",
      "      \"layer\": null,\n",
      "      \"value\": null\n",
      "    },\n",
      "    \"OPA\": {\n",
      "      \"layer\": \"block5_pool\",\n",
      "      \"value\": 0.4635288543601275\n",
      "    },\n",
      "    \"PPA\": {\n",
      "      \"layer\": \"block5_pool\",\n",
      "      \"value\": 0.45243649416808523\n",
      "    },\n",
      "    \"RSC\": {\n",
      "      \"layer\": \"block5_pool\",\n",
      "      \"value\": 0.5647854640407909\n",
      "    },\n",
      "    \"OWFA\": {\n",
      "      \"layer\": \"block4_pool\",\n",
      "      \"value\": 0.4403960309667769\n",
      "    },\n",
      "    \"VWFA-1\": {\n",
      "      \"layer\": \"block5_pool\",\n",
      "      \"value\": 0.39514660200442236\n",
      "    },\n",
      "    \"VWFA-2\": {\n",
      "      \"layer\": \"block5_pool\",\n",
      "      \"value\": 0.29124631654009503\n",
      "    },\n",
      "    \"mfs-words\": {\n",
      "      \"layer\": \"block5_pool\",\n",
      "      \"value\": 0.33307782920377954\n",
      "    },\n",
      "    \"mTL-words\": {\n",
      "      \"layer\": null,\n",
      "      \"value\": null\n",
      "    },\n",
      "    \"early\": {\n",
      "      \"layer\": \"block3_pool\",\n",
      "      \"value\": 0.48535367849473543\n",
      "    },\n",
      "    \"midventral\": {\n",
      "      \"layer\": \"block4_pool\",\n",
      "      \"value\": 0.4509723722235723\n",
      "    },\n",
      "    \"midlateral\": {\n",
      "      \"layer\": \"block4_pool\",\n",
      "      \"value\": 0.4119562613559015\n",
      "    },\n",
      "    \"midparietal\": {\n",
      "      \"layer\": \"block4_pool\",\n",
      "      \"value\": 0.47420258748392696\n",
      "    },\n",
      "    \"ventral\": {\n",
      "      \"layer\": \"block5_pool\",\n",
      "      \"value\": 0.3921019226381709\n",
      "    },\n",
      "    \"lateral\": {\n",
      "      \"layer\": \"block5_pool\",\n",
      "      \"value\": 0.4800048953552641\n",
      "    },\n",
      "    \"parietal\": {\n",
      "      \"layer\": \"block5_pool\",\n",
      "      \"value\": 0.40883674192451813\n",
      "    },\n",
      "    \"All vertices\": {\n",
      "      \"layer\": \"block4_pool\",\n",
      "      \"value\": 0.4139067778985958\n",
      "    }\n",
      "  },\n",
      "  \"RH\": {\n",
      "    \"V1v\": {\n",
      "      \"layer\": \"block2_pool\",\n",
      "      \"value\": 0.5805181756669613\n",
      "    },\n",
      "    \"V1d\": {\n",
      "      \"layer\": \"block2_pool\",\n",
      "      \"value\": 0.5851275998692367\n",
      "    },\n",
      "    \"V2v\": {\n",
      "      \"layer\": \"block3_pool\",\n",
      "      \"value\": 0.5686585857121095\n",
      "    },\n",
      "    \"V2d\": {\n",
      "      \"layer\": \"block4_pool\",\n",
      "      \"value\": 0.5609733755006775\n",
      "    },\n",
      "    \"V3v\": {\n",
      "      \"layer\": \"block4_pool\",\n",
      "      \"value\": 0.5119499674719273\n",
      "    },\n",
      "    \"V3d\": {\n",
      "      \"layer\": \"block4_pool\",\n",
      "      \"value\": 0.5151066375578838\n",
      "    },\n",
      "    \"hV4\": {\n",
      "      \"layer\": \"block4_pool\",\n",
      "      \"value\": 0.48961573812595627\n",
      "    },\n",
      "    \"EBA\": {\n",
      "      \"layer\": \"block5_pool\",\n",
      "      \"value\": 0.4822663700000454\n",
      "    },\n",
      "    \"FBA-1\": {\n",
      "      \"layer\": \"block4_pool\",\n",
      "      \"value\": 0.36988531367244193\n",
      "    },\n",
      "    \"FBA-2\": {\n",
      "      \"layer\": \"block5_pool\",\n",
      "      \"value\": 0.4628685204806653\n",
      "    },\n",
      "    \"mTL-bodies\": {\n",
      "      \"layer\": null,\n",
      "      \"value\": null\n",
      "    },\n",
      "    \"OFA\": {\n",
      "      \"layer\": \"block4_pool\",\n",
      "      \"value\": 0.40641462406129836\n",
      "    },\n",
      "    \"FFA-1\": {\n",
      "      \"layer\": \"block5_pool\",\n",
      "      \"value\": 0.4267493564860309\n",
      "    },\n",
      "    \"FFA-2\": {\n",
      "      \"layer\": \"block5_pool\",\n",
      "      \"value\": 0.5508115593284029\n",
      "    },\n",
      "    \"mTL-faces\": {\n",
      "      \"layer\": null,\n",
      "      \"value\": null\n",
      "    },\n",
      "    \"aTL-faces\": {\n",
      "      \"layer\": null,\n",
      "      \"value\": null\n",
      "    },\n",
      "    \"OPA\": {\n",
      "      \"layer\": \"block5_pool\",\n",
      "      \"value\": 0.42695924580023425\n",
      "    },\n",
      "    \"PPA\": {\n",
      "      \"layer\": \"block5_pool\",\n",
      "      \"value\": 0.5168665400732207\n",
      "    },\n",
      "    \"RSC\": {\n",
      "      \"layer\": \"block5_pool\",\n",
      "      \"value\": 0.5307699674909476\n",
      "    },\n",
      "    \"OWFA\": {\n",
      "      \"layer\": \"block4_pool\",\n",
      "      \"value\": 0.38254402945690213\n",
      "    },\n",
      "    \"VWFA-1\": {\n",
      "      \"layer\": \"block5_pool\",\n",
      "      \"value\": 0.47109845382754123\n",
      "    },\n",
      "    \"VWFA-2\": {\n",
      "      \"layer\": \"block5_pool\",\n",
      "      \"value\": 0.3554232780325516\n",
      "    },\n",
      "    \"mfs-words\": {\n",
      "      \"layer\": null,\n",
      "      \"value\": null\n",
      "    },\n",
      "    \"mTL-words\": {\n",
      "      \"layer\": null,\n",
      "      \"value\": null\n",
      "    },\n",
      "    \"early\": {\n",
      "      \"layer\": \"block3_pool\",\n",
      "      \"value\": 0.4929368762787638\n",
      "    },\n",
      "    \"midventral\": {\n",
      "      \"layer\": \"block4_pool\",\n",
      "      \"value\": 0.4357688748101849\n",
      "    },\n",
      "    \"midlateral\": {\n",
      "      \"layer\": \"block4_pool\",\n",
      "      \"value\": 0.4218590697034337\n",
      "    },\n",
      "    \"midparietal\": {\n",
      "      \"layer\": \"block4_pool\",\n",
      "      \"value\": 0.4267432791472524\n",
      "    },\n",
      "    \"ventral\": {\n",
      "      \"layer\": \"block5_pool\",\n",
      "      \"value\": 0.4541174006589327\n",
      "    },\n",
      "    \"lateral\": {\n",
      "      \"layer\": \"block5_pool\",\n",
      "      \"value\": 0.4399956095988502\n",
      "    },\n",
      "    \"parietal\": {\n",
      "      \"layer\": \"block5_pool\",\n",
      "      \"value\": 0.3688299188700996\n",
      "    },\n",
      "    \"All vertices\": {\n",
      "      \"layer\": \"block4_pool\",\n",
      "      \"value\": 0.41940475057257726\n",
      "    }\n",
      "  }\n",
      "}\n"
     ]
    }
   ],
   "source": [
    "import json\n",
    "from src.algonauts.evaluators.correlations import find_best_correlations\n",
    "\n",
    "subj = 1\n",
    "result = find_best_correlations(f'{exp_output_dir}/results.json', subj)\n",
    "print(json.dumps(result, indent=2))\n"
   ]
  }
 ],
 "metadata": {
  "kernelspec": {
   "display_name": "Python 3 (ipykernel)",
   "language": "python",
   "name": "python3"
  },
  "language_info": {
   "codemirror_mode": {
    "name": "ipython",
    "version": 3
   },
   "file_extension": ".py",
   "mimetype": "text/x-python",
   "name": "python",
   "nbconvert_exporter": "python",
   "pygments_lexer": "ipython3",
   "version": "3.9.16"
  },
  "orig_nbformat": 4,
  "vscode": {
   "interpreter": {
    "hash": "365c028d1c840c93b0f470009ef966704a741407ca08d29f5bd0c0c6373757cf"
   }
  }
 },
 "nbformat": 4,
 "nbformat_minor": 2
}
