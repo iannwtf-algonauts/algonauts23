{
 "cells": [
  {
   "cell_type": "code",
   "execution_count": 1,
   "metadata": {},
   "outputs": [],
   "source": [
    "from src.algonauts.models import model_loaders"
   ]
  },
  {
   "cell_type": "code",
   "execution_count": 2,
   "metadata": {},
   "outputs": [],
   "source": [
    "experiment = 'vgg_imagenet'\n",
    "batch_size = 300"
   ]
  },
  {
   "cell_type": "code",
   "execution_count": 3,
   "metadata": {},
   "outputs": [],
   "source": [
    "platform = 'jupyter_notebook' #@param ['colab', 'paperspace'] {allow-input: true}\n",
    "challenge_data_dir = '../data/algonauts_2023_challenge_data'\n",
    "exp_output_dir = f'../data/out/{experiment}'\n",
    "\n",
    "if platform == 'paperspace':\n",
    "    challenge_data_dir = '/storage/algonauts_2023_challenge_data'\n",
    "    exp_output_dir = f'/notebooks/data/out/{experiment}'"
   ]
  },
  {
   "attachments": {},
   "cell_type": "markdown",
   "metadata": {},
   "source": [
    "## Specify model and appropriate image preprocessing steps\n",
    "Define a function to load and return the model, printing its layers.\n",
    "Here we first load the model and print its nodes"
   ]
  },
  {
   "attachments": {},
   "cell_type": "markdown",
   "metadata": {},
   "source": [
    "### Choose to load a pretrained model from keras.applications"
   ]
  },
  {
   "cell_type": "code",
   "execution_count": 4,
   "metadata": {},
   "outputs": [],
   "source": [
    "model_loader = lambda: model_loaders.load_vgg16()"
   ]
  },
  {
   "attachments": {},
   "cell_type": "markdown",
   "metadata": {},
   "source": [
    "### Or choose to load a model from file"
   ]
  },
  {
   "cell_type": "code",
   "execution_count": null,
   "metadata": {},
   "outputs": [],
   "source": [
    "model_filename = 'model.h5'\n",
    "model_loader = lambda: model_loaders.load_from_file(model_filename)"
   ]
  },
  {
   "attachments": {},
   "cell_type": "markdown",
   "metadata": {},
   "source": [
    "### Print the model layers"
   ]
  },
  {
   "cell_type": "code",
   "execution_count": 5,
   "metadata": {},
   "outputs": [
    {
     "name": "stdout",
     "output_type": "stream",
     "text": [
      "Metal device set to: Apple M1 Pro\n"
     ]
    },
    {
     "name": "stderr",
     "output_type": "stream",
     "text": [
      "2023-03-22 23:43:29.786141: I tensorflow/core/common_runtime/pluggable_device/pluggable_device_factory.cc:306] Could not identify NUMA node of platform GPU ID 0, defaulting to 0. Your kernel may not have been built with NUMA support.\n",
      "2023-03-22 23:43:29.786643: I tensorflow/core/common_runtime/pluggable_device/pluggable_device_factory.cc:272] Created TensorFlow device (/job:localhost/replica:0/task:0/device:GPU:0 with 0 MB memory) -> physical PluggableDevice (device: 0, name: METAL, pci bus id: <undefined>)\n"
     ]
    },
    {
     "name": "stdout",
     "output_type": "stream",
     "text": [
      "input_1 -> block1_conv1 -> block1_conv2 -> block1_pool -> block2_conv1 -> block2_conv2 -> block2_pool -> block3_conv1 -> block3_conv2 -> block3_conv3 -> block3_pool -> block4_conv1 -> block4_conv2 -> block4_conv3 -> block4_pool -> block5_conv1 -> block5_conv2 -> block5_conv3 -> block5_pool\n"
     ]
    }
   ],
   "source": [
    "model, _ = model_loader()\n",
    "print(*(layer.name for layer in model.layers), sep=' -> ')\n",
    "del model"
   ]
  },
  {
   "cell_type": "markdown",
   "metadata": {},
   "source": [
    "## Select layers and subjects\n",
    "Now let's define which layer(s) we will pick from, and which subject(s) to process"
   ]
  },
  {
   "cell_type": "code",
   "execution_count": 6,
   "metadata": {},
   "outputs": [],
   "source": [
    "layers = ['block1_pool']\n",
    "subjects = [\n",
    "    1, \n",
    "    # 2, 3, 4, 5, 6, 7, 8\n",
    "    ]\n"
   ]
  },
  {
   "cell_type": "markdown",
   "metadata": {},
   "source": [
    "## Run pipeline"
   ]
  },
  {
   "cell_type": "code",
   "execution_count": 7,
   "metadata": {},
   "outputs": [
    {
     "name": "stdout",
     "output_type": "stream",
     "text": [
      "Running for layer block1_pool\n",
      "Running for subject 1\n",
      "Training images: 9841\n",
      "Test images: 159\n",
      "LH training fMRI data shape:\n",
      "(9841, 19004)\n",
      "(Training stimulus images × LH vertices)\n",
      "\n",
      "RH training fMRI data shape:\n",
      "(9841, 20544)\n",
      "(Training stimulus images × RH vertices)\n",
      "Training images: 9841\n",
      "Test images: 159\n",
      "Training stimulus images: 8856\n",
      "\n",
      "Validation stimulus images: 985\n",
      "\n",
      "Test stimulus images: 159\n",
      "Loading datasets...\n",
      "Datasets loaded\n",
      "Training PCA...\n"
     ]
    },
    {
     "name": "stderr",
     "output_type": "stream",
     "text": [
      "2023-03-22 23:44:01.841682: W tensorflow/core/platform/profile_utils/cpu_utils.cc:128] Failed to get CPU frequency: 0 Hz\n",
      "2023-03-22 23:44:02.209570: I tensorflow/core/grappler/optimizers/custom_graph_optimizer_registry.cc:114] Plugin optimizer for device_type GPU is enabled.\n"
     ]
    },
    {
     "ename": "KeyboardInterrupt",
     "evalue": "",
     "output_type": "error",
     "traceback": [
      "\u001B[0;31m---------------------------------------------------------------------------\u001B[0m",
      "\u001B[0;31mKeyboardInterrupt\u001B[0m                         Traceback (most recent call last)",
      "Cell \u001B[0;32mIn [7], line 3\u001B[0m\n\u001B[1;32m      1\u001B[0m \u001B[38;5;28;01mfrom\u001B[39;00m \u001B[38;5;21;01msrc\u001B[39;00m\u001B[38;5;21;01m.\u001B[39;00m\u001B[38;5;21;01malgonauts\u001B[39;00m\u001B[38;5;21;01m.\u001B[39;00m\u001B[38;5;21;01mpipelines\u001B[39;00m\u001B[38;5;21;01m.\u001B[39;00m\u001B[38;5;21;01mtf_pipeline\u001B[39;00m \u001B[38;5;28;01mimport\u001B[39;00m run_tf_pipeline\n\u001B[0;32m----> 3\u001B[0m \u001B[43mrun_tf_pipeline\u001B[49m\u001B[43m(\u001B[49m\u001B[43mbatch_size\u001B[49m\u001B[38;5;241;43m=\u001B[39;49m\u001B[43mbatch_size\u001B[49m\u001B[43m,\u001B[49m\u001B[43m \u001B[49m\u001B[43mmodel_loader\u001B[49m\u001B[38;5;241;43m=\u001B[39;49m\u001B[43mmodel_loader\u001B[49m\u001B[43m,\u001B[49m\u001B[43m \u001B[49m\u001B[43mlayers\u001B[49m\u001B[38;5;241;43m=\u001B[39;49m\u001B[43mlayers\u001B[49m\u001B[43m,\u001B[49m\u001B[43m \u001B[49m\u001B[43msubjects\u001B[49m\u001B[38;5;241;43m=\u001B[39;49m\u001B[43msubjects\u001B[49m\u001B[43m,\u001B[49m\n\u001B[1;32m      4\u001B[0m \u001B[43m                \u001B[49m\u001B[43mchallenge_data_dir\u001B[49m\u001B[38;5;241;43m=\u001B[39;49m\u001B[43mchallenge_data_dir\u001B[49m\u001B[43m,\u001B[49m\n\u001B[1;32m      5\u001B[0m \u001B[43m                \u001B[49m\u001B[43mexp_output_dir\u001B[49m\u001B[38;5;241;43m=\u001B[39;49m\u001B[43mexp_output_dir\u001B[49m\u001B[43m)\u001B[49m\n",
      "File \u001B[0;32m~/DataspellProjects/Algonauts2023/algonauts23/src/algonauts/pipelines/tf_pipeline.py:41\u001B[0m, in \u001B[0;36mrun_tf_pipeline\u001B[0;34m(batch_size, model_loader, layers, subjects, challenge_data_dir, exp_output_dir)\u001B[0m\n\u001B[1;32m     39\u001B[0m \u001B[38;5;66;03m# Train PCA\u001B[39;00m\n\u001B[1;32m     40\u001B[0m \u001B[38;5;28mprint\u001B[39m(\u001B[38;5;124m'\u001B[39m\u001B[38;5;124mTraining PCA...\u001B[39m\u001B[38;5;124m'\u001B[39m)\n\u001B[0;32m---> 41\u001B[0m pca \u001B[38;5;241m=\u001B[39m \u001B[43mtrain_pca\u001B[49m\u001B[43m(\u001B[49m\u001B[43mmodel\u001B[49m\u001B[43m,\u001B[49m\u001B[43m \u001B[49m\u001B[43mtrain_ds\u001B[49m\u001B[43m)\u001B[49m\n\u001B[1;32m     42\u001B[0m \u001B[38;5;28mprint\u001B[39m(\u001B[38;5;124m'\u001B[39m\u001B[38;5;124mPCA over\u001B[39m\u001B[38;5;124m'\u001B[39m)\n\u001B[1;32m     44\u001B[0m \u001B[38;5;66;03m# Extract and transform features\u001B[39;00m\n",
      "File \u001B[0;32m~/DataspellProjects/Algonauts2023/algonauts23/src/algonauts/data_processors/reduce_dims.py:11\u001B[0m, in \u001B[0;36mtrain_pca\u001B[0;34m(model, train_dataset)\u001B[0m\n\u001B[1;32m      8\u001B[0m \u001B[38;5;28;01mfor\u001B[39;00m batch \u001B[38;5;129;01min\u001B[39;00m train_dataset:\n\u001B[1;32m      9\u001B[0m     \u001B[38;5;66;03m# Extract features\u001B[39;00m\n\u001B[1;32m     10\u001B[0m     \u001B[38;5;28;01mwith\u001B[39;00m HiddenPrints():\n\u001B[0;32m---> 11\u001B[0m         ft \u001B[38;5;241m=\u001B[39m \u001B[43mmodel\u001B[49m\u001B[38;5;241;43m.\u001B[39;49m\u001B[43mpredict\u001B[49m\u001B[43m(\u001B[49m\u001B[43mbatch\u001B[49m\u001B[43m)\u001B[49m\n\u001B[1;32m     12\u001B[0m     \u001B[38;5;66;03m# Flatten the features\u001B[39;00m\n\u001B[1;32m     13\u001B[0m     ft \u001B[38;5;241m=\u001B[39m ft\u001B[38;5;241m.\u001B[39mreshape(ft\u001B[38;5;241m.\u001B[39mshape[\u001B[38;5;241m0\u001B[39m], \u001B[38;5;241m-\u001B[39m\u001B[38;5;241m1\u001B[39m)\n",
      "File \u001B[0;32m~/miniconda3/envs/algonauts-tf-clone/lib/python3.10/site-packages/keras/utils/traceback_utils.py:65\u001B[0m, in \u001B[0;36mfilter_traceback.<locals>.error_handler\u001B[0;34m(*args, **kwargs)\u001B[0m\n\u001B[1;32m     63\u001B[0m filtered_tb \u001B[38;5;241m=\u001B[39m \u001B[38;5;28;01mNone\u001B[39;00m\n\u001B[1;32m     64\u001B[0m \u001B[38;5;28;01mtry\u001B[39;00m:\n\u001B[0;32m---> 65\u001B[0m     \u001B[38;5;28;01mreturn\u001B[39;00m \u001B[43mfn\u001B[49m\u001B[43m(\u001B[49m\u001B[38;5;241;43m*\u001B[39;49m\u001B[43margs\u001B[49m\u001B[43m,\u001B[49m\u001B[43m \u001B[49m\u001B[38;5;241;43m*\u001B[39;49m\u001B[38;5;241;43m*\u001B[39;49m\u001B[43mkwargs\u001B[49m\u001B[43m)\u001B[49m\n\u001B[1;32m     66\u001B[0m \u001B[38;5;28;01mexcept\u001B[39;00m \u001B[38;5;167;01mException\u001B[39;00m \u001B[38;5;28;01mas\u001B[39;00m e:\n\u001B[1;32m     67\u001B[0m     filtered_tb \u001B[38;5;241m=\u001B[39m _process_traceback_frames(e\u001B[38;5;241m.\u001B[39m__traceback__)\n",
      "File \u001B[0;32m~/miniconda3/envs/algonauts-tf-clone/lib/python3.10/site-packages/keras/engine/training.py:2253\u001B[0m, in \u001B[0;36mModel.predict\u001B[0;34m(self, x, batch_size, verbose, steps, callbacks, max_queue_size, workers, use_multiprocessing)\u001B[0m\n\u001B[1;32m   2251\u001B[0m \u001B[38;5;28;01mfor\u001B[39;00m step \u001B[38;5;129;01min\u001B[39;00m data_handler\u001B[38;5;241m.\u001B[39msteps():\n\u001B[1;32m   2252\u001B[0m     callbacks\u001B[38;5;241m.\u001B[39mon_predict_batch_begin(step)\n\u001B[0;32m-> 2253\u001B[0m     tmp_batch_outputs \u001B[38;5;241m=\u001B[39m \u001B[38;5;28;43mself\u001B[39;49m\u001B[38;5;241;43m.\u001B[39;49m\u001B[43mpredict_function\u001B[49m\u001B[43m(\u001B[49m\u001B[43miterator\u001B[49m\u001B[43m)\u001B[49m\n\u001B[1;32m   2254\u001B[0m     \u001B[38;5;28;01mif\u001B[39;00m data_handler\u001B[38;5;241m.\u001B[39mshould_sync:\n\u001B[1;32m   2255\u001B[0m         context\u001B[38;5;241m.\u001B[39masync_wait()\n",
      "File \u001B[0;32m~/miniconda3/envs/algonauts-tf-clone/lib/python3.10/site-packages/tensorflow/python/util/traceback_utils.py:150\u001B[0m, in \u001B[0;36mfilter_traceback.<locals>.error_handler\u001B[0;34m(*args, **kwargs)\u001B[0m\n\u001B[1;32m    148\u001B[0m filtered_tb \u001B[38;5;241m=\u001B[39m \u001B[38;5;28;01mNone\u001B[39;00m\n\u001B[1;32m    149\u001B[0m \u001B[38;5;28;01mtry\u001B[39;00m:\n\u001B[0;32m--> 150\u001B[0m   \u001B[38;5;28;01mreturn\u001B[39;00m \u001B[43mfn\u001B[49m\u001B[43m(\u001B[49m\u001B[38;5;241;43m*\u001B[39;49m\u001B[43margs\u001B[49m\u001B[43m,\u001B[49m\u001B[43m \u001B[49m\u001B[38;5;241;43m*\u001B[39;49m\u001B[38;5;241;43m*\u001B[39;49m\u001B[43mkwargs\u001B[49m\u001B[43m)\u001B[49m\n\u001B[1;32m    151\u001B[0m \u001B[38;5;28;01mexcept\u001B[39;00m \u001B[38;5;167;01mException\u001B[39;00m \u001B[38;5;28;01mas\u001B[39;00m e:\n\u001B[1;32m    152\u001B[0m   filtered_tb \u001B[38;5;241m=\u001B[39m _process_traceback_frames(e\u001B[38;5;241m.\u001B[39m__traceback__)\n",
      "File \u001B[0;32m~/miniconda3/envs/algonauts-tf-clone/lib/python3.10/site-packages/tensorflow/python/eager/def_function.py:915\u001B[0m, in \u001B[0;36mFunction.__call__\u001B[0;34m(self, *args, **kwds)\u001B[0m\n\u001B[1;32m    912\u001B[0m compiler \u001B[38;5;241m=\u001B[39m \u001B[38;5;124m\"\u001B[39m\u001B[38;5;124mxla\u001B[39m\u001B[38;5;124m\"\u001B[39m \u001B[38;5;28;01mif\u001B[39;00m \u001B[38;5;28mself\u001B[39m\u001B[38;5;241m.\u001B[39m_jit_compile \u001B[38;5;28;01melse\u001B[39;00m \u001B[38;5;124m\"\u001B[39m\u001B[38;5;124mnonXla\u001B[39m\u001B[38;5;124m\"\u001B[39m\n\u001B[1;32m    914\u001B[0m \u001B[38;5;28;01mwith\u001B[39;00m OptionalXlaContext(\u001B[38;5;28mself\u001B[39m\u001B[38;5;241m.\u001B[39m_jit_compile):\n\u001B[0;32m--> 915\u001B[0m   result \u001B[38;5;241m=\u001B[39m \u001B[38;5;28;43mself\u001B[39;49m\u001B[38;5;241;43m.\u001B[39;49m\u001B[43m_call\u001B[49m\u001B[43m(\u001B[49m\u001B[38;5;241;43m*\u001B[39;49m\u001B[43margs\u001B[49m\u001B[43m,\u001B[49m\u001B[43m \u001B[49m\u001B[38;5;241;43m*\u001B[39;49m\u001B[38;5;241;43m*\u001B[39;49m\u001B[43mkwds\u001B[49m\u001B[43m)\u001B[49m\n\u001B[1;32m    917\u001B[0m new_tracing_count \u001B[38;5;241m=\u001B[39m \u001B[38;5;28mself\u001B[39m\u001B[38;5;241m.\u001B[39mexperimental_get_tracing_count()\n\u001B[1;32m    918\u001B[0m without_tracing \u001B[38;5;241m=\u001B[39m (tracing_count \u001B[38;5;241m==\u001B[39m new_tracing_count)\n",
      "File \u001B[0;32m~/miniconda3/envs/algonauts-tf-clone/lib/python3.10/site-packages/tensorflow/python/eager/def_function.py:954\u001B[0m, in \u001B[0;36mFunction._call\u001B[0;34m(self, *args, **kwds)\u001B[0m\n\u001B[1;32m    951\u001B[0m \u001B[38;5;28mself\u001B[39m\u001B[38;5;241m.\u001B[39m_lock\u001B[38;5;241m.\u001B[39mrelease()\n\u001B[1;32m    952\u001B[0m \u001B[38;5;66;03m# In this case we have not created variables on the first call. So we can\u001B[39;00m\n\u001B[1;32m    953\u001B[0m \u001B[38;5;66;03m# run the first trace but we should fail if variables are created.\u001B[39;00m\n\u001B[0;32m--> 954\u001B[0m results \u001B[38;5;241m=\u001B[39m \u001B[38;5;28;43mself\u001B[39;49m\u001B[38;5;241;43m.\u001B[39;49m\u001B[43m_stateful_fn\u001B[49m\u001B[43m(\u001B[49m\u001B[38;5;241;43m*\u001B[39;49m\u001B[43margs\u001B[49m\u001B[43m,\u001B[49m\u001B[43m \u001B[49m\u001B[38;5;241;43m*\u001B[39;49m\u001B[38;5;241;43m*\u001B[39;49m\u001B[43mkwds\u001B[49m\u001B[43m)\u001B[49m\n\u001B[1;32m    955\u001B[0m \u001B[38;5;28;01mif\u001B[39;00m \u001B[38;5;28mself\u001B[39m\u001B[38;5;241m.\u001B[39m_created_variables \u001B[38;5;129;01mand\u001B[39;00m \u001B[38;5;129;01mnot\u001B[39;00m ALLOW_DYNAMIC_VARIABLE_CREATION:\n\u001B[1;32m    956\u001B[0m   \u001B[38;5;28;01mraise\u001B[39;00m \u001B[38;5;167;01mValueError\u001B[39;00m(\u001B[38;5;124m\"\u001B[39m\u001B[38;5;124mCreating variables on a non-first call to a function\u001B[39m\u001B[38;5;124m\"\u001B[39m\n\u001B[1;32m    957\u001B[0m                    \u001B[38;5;124m\"\u001B[39m\u001B[38;5;124m decorated with tf.function.\u001B[39m\u001B[38;5;124m\"\u001B[39m)\n",
      "File \u001B[0;32m~/miniconda3/envs/algonauts-tf-clone/lib/python3.10/site-packages/tensorflow/python/eager/function.py:2496\u001B[0m, in \u001B[0;36mFunction.__call__\u001B[0;34m(self, *args, **kwargs)\u001B[0m\n\u001B[1;32m   2493\u001B[0m \u001B[38;5;28;01mwith\u001B[39;00m \u001B[38;5;28mself\u001B[39m\u001B[38;5;241m.\u001B[39m_lock:\n\u001B[1;32m   2494\u001B[0m   (graph_function,\n\u001B[1;32m   2495\u001B[0m    filtered_flat_args) \u001B[38;5;241m=\u001B[39m \u001B[38;5;28mself\u001B[39m\u001B[38;5;241m.\u001B[39m_maybe_define_function(args, kwargs)\n\u001B[0;32m-> 2496\u001B[0m \u001B[38;5;28;01mreturn\u001B[39;00m \u001B[43mgraph_function\u001B[49m\u001B[38;5;241;43m.\u001B[39;49m\u001B[43m_call_flat\u001B[49m\u001B[43m(\u001B[49m\n\u001B[1;32m   2497\u001B[0m \u001B[43m    \u001B[49m\u001B[43mfiltered_flat_args\u001B[49m\u001B[43m,\u001B[49m\u001B[43m \u001B[49m\u001B[43mcaptured_inputs\u001B[49m\u001B[38;5;241;43m=\u001B[39;49m\u001B[43mgraph_function\u001B[49m\u001B[38;5;241;43m.\u001B[39;49m\u001B[43mcaptured_inputs\u001B[49m\u001B[43m)\u001B[49m\n",
      "File \u001B[0;32m~/miniconda3/envs/algonauts-tf-clone/lib/python3.10/site-packages/tensorflow/python/eager/function.py:1862\u001B[0m, in \u001B[0;36mConcreteFunction._call_flat\u001B[0;34m(self, args, captured_inputs, cancellation_manager)\u001B[0m\n\u001B[1;32m   1858\u001B[0m possible_gradient_type \u001B[38;5;241m=\u001B[39m gradients_util\u001B[38;5;241m.\u001B[39mPossibleTapeGradientTypes(args)\n\u001B[1;32m   1859\u001B[0m \u001B[38;5;28;01mif\u001B[39;00m (possible_gradient_type \u001B[38;5;241m==\u001B[39m gradients_util\u001B[38;5;241m.\u001B[39mPOSSIBLE_GRADIENT_TYPES_NONE\n\u001B[1;32m   1860\u001B[0m     \u001B[38;5;129;01mand\u001B[39;00m executing_eagerly):\n\u001B[1;32m   1861\u001B[0m   \u001B[38;5;66;03m# No tape is watching; skip to running the function.\u001B[39;00m\n\u001B[0;32m-> 1862\u001B[0m   \u001B[38;5;28;01mreturn\u001B[39;00m \u001B[38;5;28mself\u001B[39m\u001B[38;5;241m.\u001B[39m_build_call_outputs(\u001B[38;5;28;43mself\u001B[39;49m\u001B[38;5;241;43m.\u001B[39;49m\u001B[43m_inference_function\u001B[49m\u001B[38;5;241;43m.\u001B[39;49m\u001B[43mcall\u001B[49m\u001B[43m(\u001B[49m\n\u001B[1;32m   1863\u001B[0m \u001B[43m      \u001B[49m\u001B[43mctx\u001B[49m\u001B[43m,\u001B[49m\u001B[43m \u001B[49m\u001B[43margs\u001B[49m\u001B[43m,\u001B[49m\u001B[43m \u001B[49m\u001B[43mcancellation_manager\u001B[49m\u001B[38;5;241;43m=\u001B[39;49m\u001B[43mcancellation_manager\u001B[49m\u001B[43m)\u001B[49m)\n\u001B[1;32m   1864\u001B[0m forward_backward \u001B[38;5;241m=\u001B[39m \u001B[38;5;28mself\u001B[39m\u001B[38;5;241m.\u001B[39m_select_forward_and_backward_functions(\n\u001B[1;32m   1865\u001B[0m     args,\n\u001B[1;32m   1866\u001B[0m     possible_gradient_type,\n\u001B[1;32m   1867\u001B[0m     executing_eagerly)\n\u001B[1;32m   1868\u001B[0m forward_function, args_with_tangents \u001B[38;5;241m=\u001B[39m forward_backward\u001B[38;5;241m.\u001B[39mforward()\n",
      "File \u001B[0;32m~/miniconda3/envs/algonauts-tf-clone/lib/python3.10/site-packages/tensorflow/python/eager/function.py:499\u001B[0m, in \u001B[0;36m_EagerDefinedFunction.call\u001B[0;34m(self, ctx, args, cancellation_manager)\u001B[0m\n\u001B[1;32m    497\u001B[0m \u001B[38;5;28;01mwith\u001B[39;00m _InterpolateFunctionError(\u001B[38;5;28mself\u001B[39m):\n\u001B[1;32m    498\u001B[0m   \u001B[38;5;28;01mif\u001B[39;00m cancellation_manager \u001B[38;5;129;01mis\u001B[39;00m \u001B[38;5;28;01mNone\u001B[39;00m:\n\u001B[0;32m--> 499\u001B[0m     outputs \u001B[38;5;241m=\u001B[39m \u001B[43mexecute\u001B[49m\u001B[38;5;241;43m.\u001B[39;49m\u001B[43mexecute\u001B[49m\u001B[43m(\u001B[49m\n\u001B[1;32m    500\u001B[0m \u001B[43m        \u001B[49m\u001B[38;5;28;43mstr\u001B[39;49m\u001B[43m(\u001B[49m\u001B[38;5;28;43mself\u001B[39;49m\u001B[38;5;241;43m.\u001B[39;49m\u001B[43msignature\u001B[49m\u001B[38;5;241;43m.\u001B[39;49m\u001B[43mname\u001B[49m\u001B[43m)\u001B[49m\u001B[43m,\u001B[49m\n\u001B[1;32m    501\u001B[0m \u001B[43m        \u001B[49m\u001B[43mnum_outputs\u001B[49m\u001B[38;5;241;43m=\u001B[39;49m\u001B[38;5;28;43mself\u001B[39;49m\u001B[38;5;241;43m.\u001B[39;49m\u001B[43m_num_outputs\u001B[49m\u001B[43m,\u001B[49m\n\u001B[1;32m    502\u001B[0m \u001B[43m        \u001B[49m\u001B[43minputs\u001B[49m\u001B[38;5;241;43m=\u001B[39;49m\u001B[43margs\u001B[49m\u001B[43m,\u001B[49m\n\u001B[1;32m    503\u001B[0m \u001B[43m        \u001B[49m\u001B[43mattrs\u001B[49m\u001B[38;5;241;43m=\u001B[39;49m\u001B[43mattrs\u001B[49m\u001B[43m,\u001B[49m\n\u001B[1;32m    504\u001B[0m \u001B[43m        \u001B[49m\u001B[43mctx\u001B[49m\u001B[38;5;241;43m=\u001B[39;49m\u001B[43mctx\u001B[49m\u001B[43m)\u001B[49m\n\u001B[1;32m    505\u001B[0m   \u001B[38;5;28;01melse\u001B[39;00m:\n\u001B[1;32m    506\u001B[0m     outputs \u001B[38;5;241m=\u001B[39m execute\u001B[38;5;241m.\u001B[39mexecute_with_cancellation(\n\u001B[1;32m    507\u001B[0m         \u001B[38;5;28mstr\u001B[39m(\u001B[38;5;28mself\u001B[39m\u001B[38;5;241m.\u001B[39msignature\u001B[38;5;241m.\u001B[39mname),\n\u001B[1;32m    508\u001B[0m         num_outputs\u001B[38;5;241m=\u001B[39m\u001B[38;5;28mself\u001B[39m\u001B[38;5;241m.\u001B[39m_num_outputs,\n\u001B[0;32m   (...)\u001B[0m\n\u001B[1;32m    511\u001B[0m         ctx\u001B[38;5;241m=\u001B[39mctx,\n\u001B[1;32m    512\u001B[0m         cancellation_manager\u001B[38;5;241m=\u001B[39mcancellation_manager)\n",
      "File \u001B[0;32m~/miniconda3/envs/algonauts-tf-clone/lib/python3.10/site-packages/tensorflow/python/eager/execute.py:54\u001B[0m, in \u001B[0;36mquick_execute\u001B[0;34m(op_name, num_outputs, inputs, attrs, ctx, name)\u001B[0m\n\u001B[1;32m     52\u001B[0m \u001B[38;5;28;01mtry\u001B[39;00m:\n\u001B[1;32m     53\u001B[0m   ctx\u001B[38;5;241m.\u001B[39mensure_initialized()\n\u001B[0;32m---> 54\u001B[0m   tensors \u001B[38;5;241m=\u001B[39m \u001B[43mpywrap_tfe\u001B[49m\u001B[38;5;241;43m.\u001B[39;49m\u001B[43mTFE_Py_Execute\u001B[49m\u001B[43m(\u001B[49m\u001B[43mctx\u001B[49m\u001B[38;5;241;43m.\u001B[39;49m\u001B[43m_handle\u001B[49m\u001B[43m,\u001B[49m\u001B[43m \u001B[49m\u001B[43mdevice_name\u001B[49m\u001B[43m,\u001B[49m\u001B[43m \u001B[49m\u001B[43mop_name\u001B[49m\u001B[43m,\u001B[49m\n\u001B[1;32m     55\u001B[0m \u001B[43m                                      \u001B[49m\u001B[43minputs\u001B[49m\u001B[43m,\u001B[49m\u001B[43m \u001B[49m\u001B[43mattrs\u001B[49m\u001B[43m,\u001B[49m\u001B[43m \u001B[49m\u001B[43mnum_outputs\u001B[49m\u001B[43m)\u001B[49m\n\u001B[1;32m     56\u001B[0m \u001B[38;5;28;01mexcept\u001B[39;00m core\u001B[38;5;241m.\u001B[39m_NotOkStatusException \u001B[38;5;28;01mas\u001B[39;00m e:\n\u001B[1;32m     57\u001B[0m   \u001B[38;5;28;01mif\u001B[39;00m name \u001B[38;5;129;01mis\u001B[39;00m \u001B[38;5;129;01mnot\u001B[39;00m \u001B[38;5;28;01mNone\u001B[39;00m:\n",
      "\u001B[0;31mKeyboardInterrupt\u001B[0m: "
     ]
    }
   ],
   "source": [
    "from src.algonauts.pipelines.tf_pipeline import run_tf_pipeline\n",
    "\n",
    "run_tf_pipeline(batch_size=batch_size, model_loader=model_loader, layers=layers, subjects=subjects,\n",
    "                challenge_data_dir=challenge_data_dir,\n",
    "                exp_output_dir=exp_output_dir)"
   ]
  },
  {
   "cell_type": "markdown",
   "source": [
    "## Print best layers"
   ],
   "metadata": {
    "collapsed": false
   }
  },
  {
   "cell_type": "code",
   "execution_count": 38,
   "metadata": {},
   "outputs": [
    {
     "name": "stdout",
     "output_type": "stream",
     "text": [
      "{\n",
      "  \"LH\": {\n",
      "    \"V1v\": {\n",
      "      \"layer\": \"block2_pool\",\n",
      "      \"value\": 0.5905791030486138\n",
      "    },\n",
      "    \"V1d\": {\n",
      "      \"layer\": \"block2_pool\",\n",
      "      \"value\": 0.5990486552463073\n",
      "    },\n",
      "    \"V2v\": {\n",
      "      \"layer\": \"block3_pool\",\n",
      "      \"value\": 0.5282678641036374\n",
      "    },\n",
      "    \"V2d\": {\n",
      "      \"layer\": \"block3_pool\",\n",
      "      \"value\": 0.5175909098720242\n",
      "    },\n",
      "    \"V3v\": {\n",
      "      \"layer\": \"block3_pool\",\n",
      "      \"value\": 0.5141076787726454\n",
      "    },\n",
      "    \"V3d\": {\n",
      "      \"layer\": \"block4_pool\",\n",
      "      \"value\": 0.5065629532466085\n",
      "    },\n",
      "    \"hV4\": {\n",
      "      \"layer\": \"block4_pool\",\n",
      "      \"value\": 0.44591214364383464\n",
      "    },\n",
      "    \"EBA\": {\n",
      "      \"layer\": \"block5_pool\",\n",
      "      \"value\": 0.4846002619845918\n",
      "    },\n",
      "    \"FBA-1\": {\n",
      "      \"layer\": \"block5_pool\",\n",
      "      \"value\": 0.4077181141971304\n",
      "    },\n",
      "    \"FBA-2\": {\n",
      "      \"layer\": null,\n",
      "      \"value\": null\n",
      "    },\n",
      "    \"mTL-bodies\": {\n",
      "      \"layer\": null,\n",
      "      \"value\": null\n",
      "    },\n",
      "    \"OFA\": {\n",
      "      \"layer\": \"block4_pool\",\n",
      "      \"value\": 0.43446271378361234\n",
      "    },\n",
      "    \"FFA-1\": {\n",
      "      \"layer\": \"block5_pool\",\n",
      "      \"value\": 0.47813203915081814\n",
      "    },\n",
      "    \"FFA-2\": {\n",
      "      \"layer\": null,\n",
      "      \"value\": null\n",
      "    },\n",
      "    \"mTL-faces\": {\n",
      "      \"layer\": null,\n",
      "      \"value\": null\n",
      "    },\n",
      "    \"aTL-faces\": {\n",
      "      \"layer\": null,\n",
      "      \"value\": null\n",
      "    },\n",
      "    \"OPA\": {\n",
      "      \"layer\": \"block5_pool\",\n",
      "      \"value\": 0.4635288543601275\n",
      "    },\n",
      "    \"PPA\": {\n",
      "      \"layer\": \"block5_pool\",\n",
      "      \"value\": 0.45243649416808523\n",
      "    },\n",
      "    \"RSC\": {\n",
      "      \"layer\": \"block5_pool\",\n",
      "      \"value\": 0.5647854640407909\n",
      "    },\n",
      "    \"OWFA\": {\n",
      "      \"layer\": \"block4_pool\",\n",
      "      \"value\": 0.4403960309667769\n",
      "    },\n",
      "    \"VWFA-1\": {\n",
      "      \"layer\": \"block5_pool\",\n",
      "      \"value\": 0.39514660200442236\n",
      "    },\n",
      "    \"VWFA-2\": {\n",
      "      \"layer\": \"block5_pool\",\n",
      "      \"value\": 0.29124631654009503\n",
      "    },\n",
      "    \"mfs-words\": {\n",
      "      \"layer\": \"block5_pool\",\n",
      "      \"value\": 0.33307782920377954\n",
      "    },\n",
      "    \"mTL-words\": {\n",
      "      \"layer\": null,\n",
      "      \"value\": null\n",
      "    },\n",
      "    \"early\": {\n",
      "      \"layer\": \"block3_pool\",\n",
      "      \"value\": 0.48535367849473543\n",
      "    },\n",
      "    \"midventral\": {\n",
      "      \"layer\": \"block4_pool\",\n",
      "      \"value\": 0.4509723722235723\n",
      "    },\n",
      "    \"midlateral\": {\n",
      "      \"layer\": \"block4_pool\",\n",
      "      \"value\": 0.4119562613559015\n",
      "    },\n",
      "    \"midparietal\": {\n",
      "      \"layer\": \"block4_pool\",\n",
      "      \"value\": 0.47420258748392696\n",
      "    },\n",
      "    \"ventral\": {\n",
      "      \"layer\": \"block5_pool\",\n",
      "      \"value\": 0.3921019226381709\n",
      "    },\n",
      "    \"lateral\": {\n",
      "      \"layer\": \"block5_pool\",\n",
      "      \"value\": 0.4800048953552641\n",
      "    },\n",
      "    \"parietal\": {\n",
      "      \"layer\": \"block5_pool\",\n",
      "      \"value\": 0.40883674192451813\n",
      "    },\n",
      "    \"All vertices\": {\n",
      "      \"layer\": \"block4_pool\",\n",
      "      \"value\": 0.4139067778985958\n",
      "    }\n",
      "  },\n",
      "  \"RH\": {\n",
      "    \"V1v\": {\n",
      "      \"layer\": \"block2_pool\",\n",
      "      \"value\": 0.5805181756669613\n",
      "    },\n",
      "    \"V1d\": {\n",
      "      \"layer\": \"block2_pool\",\n",
      "      \"value\": 0.5851275998692367\n",
      "    },\n",
      "    \"V2v\": {\n",
      "      \"layer\": \"block3_pool\",\n",
      "      \"value\": 0.5686585857121095\n",
      "    },\n",
      "    \"V2d\": {\n",
      "      \"layer\": \"block4_pool\",\n",
      "      \"value\": 0.5609733755006775\n",
      "    },\n",
      "    \"V3v\": {\n",
      "      \"layer\": \"block4_pool\",\n",
      "      \"value\": 0.5119499674719273\n",
      "    },\n",
      "    \"V3d\": {\n",
      "      \"layer\": \"block4_pool\",\n",
      "      \"value\": 0.5151066375578838\n",
      "    },\n",
      "    \"hV4\": {\n",
      "      \"layer\": \"block4_pool\",\n",
      "      \"value\": 0.48961573812595627\n",
      "    },\n",
      "    \"EBA\": {\n",
      "      \"layer\": \"block5_pool\",\n",
      "      \"value\": 0.4822663700000454\n",
      "    },\n",
      "    \"FBA-1\": {\n",
      "      \"layer\": \"block4_pool\",\n",
      "      \"value\": 0.36988531367244193\n",
      "    },\n",
      "    \"FBA-2\": {\n",
      "      \"layer\": \"block5_pool\",\n",
      "      \"value\": 0.4628685204806653\n",
      "    },\n",
      "    \"mTL-bodies\": {\n",
      "      \"layer\": null,\n",
      "      \"value\": null\n",
      "    },\n",
      "    \"OFA\": {\n",
      "      \"layer\": \"block4_pool\",\n",
      "      \"value\": 0.40641462406129836\n",
      "    },\n",
      "    \"FFA-1\": {\n",
      "      \"layer\": \"block5_pool\",\n",
      "      \"value\": 0.4267493564860309\n",
      "    },\n",
      "    \"FFA-2\": {\n",
      "      \"layer\": \"block5_pool\",\n",
      "      \"value\": 0.5508115593284029\n",
      "    },\n",
      "    \"mTL-faces\": {\n",
      "      \"layer\": null,\n",
      "      \"value\": null\n",
      "    },\n",
      "    \"aTL-faces\": {\n",
      "      \"layer\": null,\n",
      "      \"value\": null\n",
      "    },\n",
      "    \"OPA\": {\n",
      "      \"layer\": \"block5_pool\",\n",
      "      \"value\": 0.42695924580023425\n",
      "    },\n",
      "    \"PPA\": {\n",
      "      \"layer\": \"block5_pool\",\n",
      "      \"value\": 0.5168665400732207\n",
      "    },\n",
      "    \"RSC\": {\n",
      "      \"layer\": \"block5_pool\",\n",
      "      \"value\": 0.5307699674909476\n",
      "    },\n",
      "    \"OWFA\": {\n",
      "      \"layer\": \"block4_pool\",\n",
      "      \"value\": 0.38254402945690213\n",
      "    },\n",
      "    \"VWFA-1\": {\n",
      "      \"layer\": \"block5_pool\",\n",
      "      \"value\": 0.47109845382754123\n",
      "    },\n",
      "    \"VWFA-2\": {\n",
      "      \"layer\": \"block5_pool\",\n",
      "      \"value\": 0.3554232780325516\n",
      "    },\n",
      "    \"mfs-words\": {\n",
      "      \"layer\": null,\n",
      "      \"value\": null\n",
      "    },\n",
      "    \"mTL-words\": {\n",
      "      \"layer\": null,\n",
      "      \"value\": null\n",
      "    },\n",
      "    \"early\": {\n",
      "      \"layer\": \"block3_pool\",\n",
      "      \"value\": 0.4929368762787638\n",
      "    },\n",
      "    \"midventral\": {\n",
      "      \"layer\": \"block4_pool\",\n",
      "      \"value\": 0.4357688748101849\n",
      "    },\n",
      "    \"midlateral\": {\n",
      "      \"layer\": \"block4_pool\",\n",
      "      \"value\": 0.4218590697034337\n",
      "    },\n",
      "    \"midparietal\": {\n",
      "      \"layer\": \"block4_pool\",\n",
      "      \"value\": 0.4267432791472524\n",
      "    },\n",
      "    \"ventral\": {\n",
      "      \"layer\": \"block5_pool\",\n",
      "      \"value\": 0.4541174006589327\n",
      "    },\n",
      "    \"lateral\": {\n",
      "      \"layer\": \"block5_pool\",\n",
      "      \"value\": 0.4399956095988502\n",
      "    },\n",
      "    \"parietal\": {\n",
      "      \"layer\": \"block5_pool\",\n",
      "      \"value\": 0.3688299188700996\n",
      "    },\n",
      "    \"All vertices\": {\n",
      "      \"layer\": \"block4_pool\",\n",
      "      \"value\": 0.41940475057257726\n",
      "    }\n",
      "  }\n",
      "}\n"
     ]
    }
   ],
   "source": [
    "import json\n",
    "from src.algonauts.evaluators.correlations import find_best_correlations\n",
    "\n",
    "subj = 1\n",
    "result = find_best_correlations(f'{exp_output_dir}/results.json', subj)\n",
    "print(json.dumps(result, indent=2))\n"
   ]
  }
 ],
 "metadata": {
  "kernelspec": {
   "display_name": "Python 3 (ipykernel)",
   "language": "python",
   "name": "python3"
  },
  "language_info": {
   "codemirror_mode": {
    "name": "ipython",
    "version": 3
   },
   "file_extension": ".py",
   "mimetype": "text/x-python",
   "name": "python",
   "nbconvert_exporter": "python",
   "pygments_lexer": "ipython3",
   "version": "3.9.16"
  },
  "orig_nbformat": 4,
  "vscode": {
   "interpreter": {
    "hash": "365c028d1c840c93b0f470009ef966704a741407ca08d29f5bd0c0c6373757cf"
   }
  }
 },
 "nbformat": 4,
 "nbformat_minor": 2
}
