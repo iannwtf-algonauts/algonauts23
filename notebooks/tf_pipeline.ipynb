{
 "cells": [
  {
   "cell_type": "code",
   "execution_count": 1,
   "metadata": {},
   "outputs": [],
   "source": [
    "import src.algonauts.data_processors.image_transforms\n",
    "from src.algonauts.models import model_loaders"
   ]
  },
  {
   "cell_type": "code",
   "execution_count": 1,
   "metadata": {},
   "outputs": [],
   "source": [
    "experiment = 'vgg_imagenet_everything'\n",
    "batch_size = 300"
   ]
  },
  {
   "cell_type": "code",
   "execution_count": 2,
   "outputs": [],
   "source": [
    "platform = 'jupyter_notebook' #@param ['colab', 'paperspace'] {allow-input: true}\n",
    "\n",
    "if platform == 'jupyter_notebook':\n",
    "    challenge_data_dir = '../data/algonauts_2023_challenge_data'\n",
    "    exp_output_dir = f'../data/out/{experiment}'\n",
    "\n",
    "if platform == 'paperspace':\n",
    "    challenge_data_dir = '/storage/algonauts_2023_challenge_data'\n",
    "    exp_output_dir = f'/notebooks/data/out/{experiment}'"
   ],
   "metadata": {
    "collapsed": false
   }
  },
  {
   "attachments": {},
   "cell_type": "markdown",
   "metadata": {},
   "source": [
    "## Specify model and appropriate image preprocessing steps\n",
    "Define a function to load and return the model, printing its layers.\n",
    "Here we first load the model and print its nodes"
   ]
  },
  {
   "attachments": {},
   "cell_type": "markdown",
   "metadata": {},
   "source": [
    "### Choose to load a pretrained model from keras.applications"
   ]
  },
  {
   "cell_type": "code",
   "execution_count": 4,
   "metadata": {},
   "outputs": [],
   "source": [
    "model_loader = lambda: model_loaders.load_vgg16()"
   ]
  },
  {
   "attachments": {},
   "cell_type": "markdown",
   "metadata": {},
   "source": [
    "### Or choose to load a model from file"
   ]
  },
  {
   "cell_type": "code",
   "execution_count": null,
   "metadata": {},
   "outputs": [],
   "source": [
    "model_filename = 'model.h5'\n",
    "transform_image = src.algonauts.data_processors.image_transforms.transform_alexnet\n",
    "model_loader = lambda: model_loaders.load_from_file(model_filename, transform_image)"
   ]
  },
  {
   "attachments": {},
   "cell_type": "markdown",
   "metadata": {},
   "source": [
    "### Print the model layers"
   ]
  },
  {
   "cell_type": "code",
   "execution_count": null,
   "metadata": {
    "pycharm": {
     "is_executing": true
    }
   },
   "outputs": [],
   "source": [
    "model, _ = model_loader()\n",
    "print(*(layer.name for layer in model.layers), sep=' -> ')\n",
    "del model"
   ]
  },
  {
   "cell_type": "markdown",
   "metadata": {},
   "source": [
    "## Select layers and subjects\n",
    "Now let's define which layer(s) we will pick from, and which subject(s) to process"
   ]
  },
  {
   "cell_type": "code",
   "execution_count": 6,
   "metadata": {},
   "outputs": [],
   "source": [
    "layers = ['block1_pool', 'block2_pool', 'block3_pool', 'block4_pool', 'block5_pool']\n",
    "subjects = [\n",
    "    1, 2, 3, 4, 5, 6, 7, 8\n",
    "    ]\n"
   ]
  },
  {
   "cell_type": "markdown",
   "metadata": {},
   "source": [
    "## Run pipeline"
   ]
  },
  {
   "cell_type": "code",
   "execution_count": null,
   "metadata": {
    "pycharm": {
     "is_executing": true
    }
   },
   "outputs": [],
   "source": [
    "from src.algonauts.pipelines.tf_pipeline import run_tf_pipeline\n",
    "\n",
    "run_tf_pipeline(batch_size=batch_size, model_loader=model_loader, layers=layers, subjects=subjects,\n",
    "                challenge_data_dir=challenge_data_dir,\n",
    "                exp_output_dir=exp_output_dir)"
   ]
  },
  {
   "cell_type": "markdown",
   "source": [
    "## Merge predictions from best layers for each ROI"
   ],
   "metadata": {
    "collapsed": false
   }
  },
  {
   "cell_type": "code",
   "execution_count": null,
   "outputs": [],
   "source": [
    "from src.algonauts.evaluators.predictions import merge_predictions_for_all_subjects\n",
    "merge_predictions_for_all_subjects(subjects, challenge_data_dir, exp_output_dir)"
   ],
   "metadata": {
    "collapsed": false
   }
  },
  {
   "cell_type": "markdown",
   "source": [
    "## Print best layers"
   ],
   "metadata": {
    "collapsed": false
   }
  },
  {
   "cell_type": "code",
   "execution_count": 3,
   "metadata": {},
   "outputs": [
    {
     "name": "stdout",
     "output_type": "stream",
     "text": [
      "{\n",
      "  \"LH\": {\n",
      "    \"V1v\": {\n",
      "      \"layer\": \"block2_pool\",\n",
      "      \"value\": 0.6187332890026032\n",
      "    },\n",
      "    \"V1d\": {\n",
      "      \"layer\": \"block2_pool\",\n",
      "      \"value\": 0.624119593187761\n",
      "    },\n",
      "    \"V2v\": {\n",
      "      \"layer\": \"block3_pool\",\n",
      "      \"value\": 0.54351523876134\n",
      "    },\n",
      "    \"V2d\": {\n",
      "      \"layer\": \"block3_pool\",\n",
      "      \"value\": 0.5515379305486459\n",
      "    },\n",
      "    \"V3v\": {\n",
      "      \"layer\": \"block3_pool\",\n",
      "      \"value\": 0.5370360263528405\n",
      "    },\n",
      "    \"V3d\": {\n",
      "      \"layer\": \"block4_pool\",\n",
      "      \"value\": 0.5311675836964601\n",
      "    },\n",
      "    \"hV4\": {\n",
      "      \"layer\": \"block4_pool\",\n",
      "      \"value\": 0.45259556831033004\n",
      "    },\n",
      "    \"EBA\": {\n",
      "      \"layer\": \"block5_pool\",\n",
      "      \"value\": 0.4876392043256843\n",
      "    },\n",
      "    \"FBA-1\": {\n",
      "      \"layer\": \"block5_pool\",\n",
      "      \"value\": 0.39867189142280396\n",
      "    },\n",
      "    \"FBA-2\": {\n",
      "      \"layer\": null,\n",
      "      \"value\": null\n",
      "    },\n",
      "    \"mTL-bodies\": {\n",
      "      \"layer\": null,\n",
      "      \"value\": null\n",
      "    },\n",
      "    \"OFA\": {\n",
      "      \"layer\": \"block4_pool\",\n",
      "      \"value\": 0.4489051597174042\n",
      "    },\n",
      "    \"FFA-1\": {\n",
      "      \"layer\": \"block5_pool\",\n",
      "      \"value\": 0.4751151545418182\n",
      "    },\n",
      "    \"FFA-2\": {\n",
      "      \"layer\": null,\n",
      "      \"value\": null\n",
      "    },\n",
      "    \"mTL-faces\": {\n",
      "      \"layer\": null,\n",
      "      \"value\": null\n",
      "    },\n",
      "    \"aTL-faces\": {\n",
      "      \"layer\": null,\n",
      "      \"value\": null\n",
      "    },\n",
      "    \"OPA\": {\n",
      "      \"layer\": \"block5_pool\",\n",
      "      \"value\": 0.4628453746256229\n",
      "    },\n",
      "    \"PPA\": {\n",
      "      \"layer\": \"block5_pool\",\n",
      "      \"value\": 0.452267164999947\n",
      "    },\n",
      "    \"RSC\": {\n",
      "      \"layer\": \"block5_pool\",\n",
      "      \"value\": 0.5658488525498603\n",
      "    },\n",
      "    \"OWFA\": {\n",
      "      \"layer\": \"block4_pool\",\n",
      "      \"value\": 0.4634609779727602\n",
      "    },\n",
      "    \"VWFA-1\": {\n",
      "      \"layer\": \"block5_pool\",\n",
      "      \"value\": 0.394202536444774\n",
      "    },\n",
      "    \"VWFA-2\": {\n",
      "      \"layer\": \"block5_pool\",\n",
      "      \"value\": 0.27990352362833454\n",
      "    },\n",
      "    \"mfs-words\": {\n",
      "      \"layer\": \"block5_pool\",\n",
      "      \"value\": 0.3233437202369\n",
      "    },\n",
      "    \"mTL-words\": {\n",
      "      \"layer\": null,\n",
      "      \"value\": null\n",
      "    },\n",
      "    \"early\": {\n",
      "      \"layer\": \"block3_pool\",\n",
      "      \"value\": 0.5150915461348365\n",
      "    },\n",
      "    \"midventral\": {\n",
      "      \"layer\": \"block4_pool\",\n",
      "      \"value\": 0.46324906564135926\n",
      "    },\n",
      "    \"midlateral\": {\n",
      "      \"layer\": \"block4_pool\",\n",
      "      \"value\": 0.4285991218987268\n",
      "    },\n",
      "    \"midparietal\": {\n",
      "      \"layer\": \"block4_pool\",\n",
      "      \"value\": 0.47803737526939133\n",
      "    },\n",
      "    \"ventral\": {\n",
      "      \"layer\": \"block5_pool\",\n",
      "      \"value\": 0.3841378468317185\n",
      "    },\n",
      "    \"lateral\": {\n",
      "      \"layer\": \"block5_pool\",\n",
      "      \"value\": 0.4817483073310243\n",
      "    },\n",
      "    \"parietal\": {\n",
      "      \"layer\": \"block5_pool\",\n",
      "      \"value\": 0.4067596107111381\n",
      "    },\n",
      "    \"All vertices\": {\n",
      "      \"layer\": \"block4_pool\",\n",
      "      \"value\": 0.4220463532489192\n",
      "    }\n",
      "  },\n",
      "  \"RH\": {\n",
      "    \"V1v\": {\n",
      "      \"layer\": \"block2_pool\",\n",
      "      \"value\": 0.6101030836106429\n",
      "    },\n",
      "    \"V1d\": {\n",
      "      \"layer\": \"block2_pool\",\n",
      "      \"value\": 0.6185721275146646\n",
      "    },\n",
      "    \"V2v\": {\n",
      "      \"layer\": \"block4_pool\",\n",
      "      \"value\": 0.5886840624296964\n",
      "    },\n",
      "    \"V2d\": {\n",
      "      \"layer\": \"block4_pool\",\n",
      "      \"value\": 0.5823439836721882\n",
      "    },\n",
      "    \"V3v\": {\n",
      "      \"layer\": \"block4_pool\",\n",
      "      \"value\": 0.538791365492196\n",
      "    },\n",
      "    \"V3d\": {\n",
      "      \"layer\": \"block4_pool\",\n",
      "      \"value\": 0.539597098189502\n",
      "    },\n",
      "    \"hV4\": {\n",
      "      \"layer\": \"block4_pool\",\n",
      "      \"value\": 0.5026178846431114\n",
      "    },\n",
      "    \"EBA\": {\n",
      "      \"layer\": \"block5_pool\",\n",
      "      \"value\": 0.48177024517516853\n",
      "    },\n",
      "    \"FBA-1\": {\n",
      "      \"layer\": \"block4_pool\",\n",
      "      \"value\": 0.3708080979314493\n",
      "    },\n",
      "    \"FBA-2\": {\n",
      "      \"layer\": \"block5_pool\",\n",
      "      \"value\": 0.4657316526252434\n",
      "    },\n",
      "    \"mTL-bodies\": {\n",
      "      \"layer\": null,\n",
      "      \"value\": null\n",
      "    },\n",
      "    \"OFA\": {\n",
      "      \"layer\": \"block4_pool\",\n",
      "      \"value\": 0.4262779345536616\n",
      "    },\n",
      "    \"FFA-1\": {\n",
      "      \"layer\": \"block5_pool\",\n",
      "      \"value\": 0.4294836914231947\n",
      "    },\n",
      "    \"FFA-2\": {\n",
      "      \"layer\": \"block5_pool\",\n",
      "      \"value\": 0.5576210784431522\n",
      "    },\n",
      "    \"mTL-faces\": {\n",
      "      \"layer\": null,\n",
      "      \"value\": null\n",
      "    },\n",
      "    \"aTL-faces\": {\n",
      "      \"layer\": null,\n",
      "      \"value\": null\n",
      "    },\n",
      "    \"OPA\": {\n",
      "      \"layer\": \"block5_pool\",\n",
      "      \"value\": 0.42421045066568275\n",
      "    },\n",
      "    \"PPA\": {\n",
      "      \"layer\": \"block5_pool\",\n",
      "      \"value\": 0.518709222427459\n",
      "    },\n",
      "    \"RSC\": {\n",
      "      \"layer\": \"block5_pool\",\n",
      "      \"value\": 0.529568885414162\n",
      "    },\n",
      "    \"OWFA\": {\n",
      "      \"layer\": \"block4_pool\",\n",
      "      \"value\": 0.4009974455626839\n",
      "    },\n",
      "    \"VWFA-1\": {\n",
      "      \"layer\": \"block5_pool\",\n",
      "      \"value\": 0.4695479405464438\n",
      "    },\n",
      "    \"VWFA-2\": {\n",
      "      \"layer\": \"block5_pool\",\n",
      "      \"value\": 0.35443249278433886\n",
      "    },\n",
      "    \"mfs-words\": {\n",
      "      \"layer\": null,\n",
      "      \"value\": null\n",
      "    },\n",
      "    \"mTL-words\": {\n",
      "      \"layer\": null,\n",
      "      \"value\": null\n",
      "    },\n",
      "    \"early\": {\n",
      "      \"layer\": \"block4_pool\",\n",
      "      \"value\": 0.5187615433937626\n",
      "    },\n",
      "    \"midventral\": {\n",
      "      \"layer\": \"block4_pool\",\n",
      "      \"value\": 0.4614772985326359\n",
      "    },\n",
      "    \"midlateral\": {\n",
      "      \"layer\": \"block4_pool\",\n",
      "      \"value\": 0.4240678490522473\n",
      "    },\n",
      "    \"midparietal\": {\n",
      "      \"layer\": \"block5_pool\",\n",
      "      \"value\": 0.43019863407985726\n",
      "    },\n",
      "    \"ventral\": {\n",
      "      \"layer\": \"block5_pool\",\n",
      "      \"value\": 0.4538720508605948\n",
      "    },\n",
      "    \"lateral\": {\n",
      "      \"layer\": \"block5_pool\",\n",
      "      \"value\": 0.4406060179660465\n",
      "    },\n",
      "    \"parietal\": {\n",
      "      \"layer\": \"block5_pool\",\n",
      "      \"value\": 0.3614546839492706\n",
      "    },\n",
      "    \"All vertices\": {\n",
      "      \"layer\": \"block4_pool\",\n",
      "      \"value\": 0.4246794733885585\n",
      "    }\n",
      "  }\n",
      "}\n"
     ]
    }
   ],
   "source": [
    "import json\n",
    "from src.algonauts.evaluators.correlations import find_best_correlations\n",
    "\n",
    "subj = 1\n",
    "result = find_best_correlations(f'{exp_output_dir}/results.json', subj)\n",
    "print(json.dumps(result, indent=2))\n"
   ]
  },
  {
   "cell_type": "code",
   "execution_count": null,
   "outputs": [],
   "source": [],
   "metadata": {
    "collapsed": false
   }
  }
 ],
 "metadata": {
  "kernelspec": {
   "display_name": "Python 3 (ipykernel)",
   "language": "python",
   "name": "python3"
  },
  "language_info": {
   "codemirror_mode": {
    "name": "ipython",
    "version": 3
   },
   "file_extension": ".py",
   "mimetype": "text/x-python",
   "name": "python",
   "nbconvert_exporter": "python",
   "pygments_lexer": "ipython3",
   "version": "3.9.16"
  },
  "orig_nbformat": 4,
  "vscode": {
   "interpreter": {
    "hash": "365c028d1c840c93b0f470009ef966704a741407ca08d29f5bd0c0c6373757cf"
   }
  }
 },
 "nbformat": 4,
 "nbformat_minor": 2
}
