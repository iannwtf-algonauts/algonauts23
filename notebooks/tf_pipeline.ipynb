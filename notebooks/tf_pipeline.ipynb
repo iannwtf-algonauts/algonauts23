{
 "cells": [
  {
   "cell_type": "code",
   "execution_count": null,
   "metadata": {},
   "outputs": [],
   "source": [
    "import os, sys\n",
    "import tensorflow as tf\n",
    "from tensorflow.keras.layers.experimental.preprocessing import Normalization\n",
    "import numpy as np\n",
    "from sklearn.decomposition import PCA\n",
    "from sklearn.linear_model import LinearRegression"
   ]
  },
  {
   "cell_type": "code",
   "execution_count": null,
   "metadata": {},
   "outputs": [],
   "source": [
    "# context manager to suppress stdoutm for annoying long printouts\n",
    "class HiddenPrints:\n",
    "    def __enter__(self):\n",
    "        self._original_stdout = sys.stdout\n",
    "        sys.stdout = open(os.devnull, 'w')\n",
    "\n",
    "    def __exit__(self, exc_type, exc_val, exc_tb):\n",
    "        sys.stdout.close()\n",
    "        sys.stdout = self._original_stdout"
   ]
  },
  {
   "cell_type": "code",
   "execution_count": null,
   "metadata": {},
   "outputs": [],
   "source": [
    "experiment = 'alexnet_trained_on_coco'\n",
    "batch_size = 300"
   ]
  },
  {
   "cell_type": "code",
   "execution_count": null,
   "metadata": {},
   "outputs": [],
   "source": [
    "platform = 'paperspace' #@param ['colab', 'paperspace'] {allow-input: true}\n",
    "\n",
    "if platform == 'jupyter_notebook':\n",
    "    challenge_data_dir = '../data/algonauts_2023_challenge_data'\n",
    "    exp_output_dir = f'../data/out/{experiment}'\n",
    "\n",
    "if platform == 'paperspace':\n",
    "    challenge_data_dir = '/storage/algonauts_2023_challenge_data'\n",
    "    exp_output_dir = f'/notebooks/data/out/{experiment}'"
   ]
  },
  {
   "attachments": {},
   "cell_type": "markdown",
   "metadata": {},
   "source": [
    "## Functions not aligned with the current structuree"
   ]
  },
  {
   "cell_type": "code",
   "execution_count": null,
   "metadata": {},
   "outputs": [],
   "source": [
    "def train_pca(model, train_dataset):\n",
    "    \n",
    "    features = []\n",
    "    for batch in train_dataset:\n",
    "        # Extract features\n",
    "        with HiddenPrints():\n",
    "            ft = model.predict(batch)\n",
    "        # Flatten the features\n",
    "        ft = ft.reshape(ft.shape[0], -1)\n",
    "        # Append to list\n",
    "        features.append(ft)\n",
    "    # Combine features from all batches\n",
    "    features = np.vstack(features)\n",
    "    n_components = 100\n",
    "    print('Features shape: ', features.shape, ' PCA Components: ', n_components)\n",
    "    # Fit PCA to combined features\n",
    "    pca = PCA(n_components=n_components)\n",
    "    pca.fit(features)\n",
    "    # print('plot the explained variance')\n",
    "    # plt.plot(pca.explained_variance_ratio_)\n",
    "    # plt.show()\n",
    "    # print('plot the cumulative explained variance')\n",
    "    # plt.plot(np.cumsum(pca.explained_variance_ratio_))\n",
    "    # plt.show()\n",
    "    return pca\n",
    "\n",
    "def extract_and_transform_features(dataset, model, pca):\n",
    "    features = []\n",
    "    for batch in dataset:\n",
    "        with HiddenPrints():\n",
    "            ft = model.predict(batch)\n",
    "        # Flatten the features\n",
    "        ft = ft.reshape(ft.shape[0], -1)\n",
    "        # Fit PCA to batch of features\n",
    "        ft = pca.transform(ft)\n",
    "        features.append(ft)\n",
    "    return np.vstack(features)\n",
    "\n",
    "def load_datasets(dataset, transform_image):\n",
    "    train_val_imgs_paths = [os.path.join(dataset.train_img_dir, img_name) for img_name in dataset.training_img_list]\n",
    "    train_paths = [train_val_imgs_paths[i] for i in dataset.idxs_train]\n",
    "    val_paths = [train_val_imgs_paths[i] for i in dataset.idxs_val]\n",
    "    test_imgs_paths = [os.path.join(dataset.test_img_dir, img_name) for img_name in dataset.test_img_list]\n",
    "\n",
    "    train_ds = tf.data.Dataset.from_tensor_slices(train_paths)\n",
    "    val_ds = tf.data.Dataset.from_tensor_slices(val_paths)\n",
    "    test_ds = tf.data.Dataset.from_tensor_slices(test_imgs_paths)\n",
    "\n",
    "    def load_image(image_path):\n",
    "        img = tf.io.read_file(image_path)\n",
    "        img = tf.image.decode_jpeg(img, channels=3)\n",
    "        return img\n",
    "    \n",
    "    def preprocess(ds):\n",
    "        ds = ds.map(load_image)\n",
    "        ds = ds.map(transform_image)\n",
    "        return ds\n",
    "    \n",
    "    train_ds = preprocess(train_ds).batch(batch_size).prefetch(tf.data.AUTOTUNE)\n",
    "    val_ds = preprocess(val_ds).batch(batch_size).prefetch(tf.data.AUTOTUNE)\n",
    "    test_ds = preprocess(test_ds).batch(batch_size).prefetch(tf.data.AUTOTUNE)\n",
    "\n",
    "    return train_ds, val_ds, test_ds\n",
    "\n",
    "def save_predictions(lh_fmri_test_pred, rh_fmri_test_pred, subject_submission_dir):\n",
    "    lh_fmri_test_pred = lh_fmri_test_pred.astype(np.float32)\n",
    "    rh_fmri_test_pred = rh_fmri_test_pred.astype(np.float32)\n",
    "\n",
    "    np.save(os.path.join(subject_submission_dir, 'lh_pred_test.npy'), lh_fmri_test_pred)\n",
    "    np.save(os.path.join(subject_submission_dir, 'rh_pred_test.npy'), rh_fmri_test_pred)"
   ]
  },
  {
   "attachments": {},
   "cell_type": "markdown",
   "metadata": {},
   "source": [
    "## Specify model and appropriate image preprocessing steps\n",
    "Define a function to load and return the model, printing its layers.\n",
    "Due to memory constraints, we will delete the model from memory in each loop. Here we first load it, print its\n",
    "nodes and delete it."
   ]
  },
  {
   "attachments": {},
   "cell_type": "markdown",
   "metadata": {},
   "source": [
    "### Choose to load a pretrained model from keras.applications"
   ]
  },
  {
   "cell_type": "code",
   "execution_count": null,
   "metadata": {},
   "outputs": [],
   "source": [
    "def load_model(layer_name=None):\n",
    "    model = tf.keras.applications.VGG16(weights='imagenet', include_top=False)\n",
    "    # Slice the model to extract features from a specific layer\n",
    "    if layer_name is not None:\n",
    "        model = tf.keras.Model(inputs=model.input, outputs=model.get_layer(layer_name).output)\n",
    "    return model\n",
    "\n",
    "def transform_image(image):\n",
    "    image = tf.image.resize(image, (224, 224))\n",
    "    image = tf.keras.applications.vgg16.preprocess_input(image)\n",
    "    return image"
   ]
  },
  {
   "attachments": {},
   "cell_type": "markdown",
   "metadata": {},
   "source": [
    "### Or choose to load a model from file"
   ]
  },
  {
   "cell_type": "code",
   "execution_count": null,
   "metadata": {},
   "outputs": [],
   "source": [
    "model_filename = 'model.h5'\n",
    "\n",
    "def load_model(layer_name=None):\n",
    "    model = tf.keras.models.load_model(model_filename)\n",
    "    # Slice the model to extract features from a specific layer\n",
    "    if layer_name is not None:\n",
    "        model = tf.keras.Model(inputs=model.input, outputs=model.get_layer(layer_name).output)\n",
    "    return model\n",
    "\n",
    "def transform_image(image):\n",
    "    image = tf.image.resize(image, (227, 227))\n",
    "    image = tf.cast(image, tf.float32) / 127.5 - 1.0\n",
    "    mean = [0.485, 0.456, 0.406]\n",
    "    variance = [0.229, 0.224, 0.225]\n",
    "    normalization_layer = Normalization(mean=mean, variance=variance)\n",
    "    image = normalization_layer(image)\n",
    "    return image"
   ]
  },
  {
   "attachments": {},
   "cell_type": "markdown",
   "metadata": {},
   "source": [
    "### Print the model layers"
   ]
  },
  {
   "cell_type": "code",
   "execution_count": null,
   "metadata": {},
   "outputs": [],
   "source": [
    "model = load_model()\n",
    "print(*(layer.name for layer in model.layers), sep=' -> ')\n",
    "del model"
   ]
  },
  {
   "cell_type": "markdown",
   "metadata": {},
   "source": [
    "## Select layers and subjects\n",
    "Now let's define which layer(s) we will pick from, and which subject(s) to process"
   ]
  },
  {
   "cell_type": "code",
   "execution_count": null,
   "metadata": {},
   "outputs": [],
   "source": [
    "layers = ['max_pooling2d_1']\n",
    "subjects = [\n",
    "    1, \n",
    "    # 2, 3, 4, 5, 6, 7, 8\n",
    "    ]\n"
   ]
  },
  {
   "cell_type": "markdown",
   "metadata": {},
   "source": [
    "## Run pipeline"
   ]
  },
  {
   "cell_type": "code",
   "execution_count": null,
   "metadata": {},
   "outputs": [],
   "source": [
    "from src.algonauts.evaluators import correlations as corr\n",
    "from src.algonauts.data_processors.nsd_dataset import NSDDataset\n",
    "\n",
    "for layer_name in layers:\n",
    "    print(f'Running for layer {layer_name}')\n",
    "    for subj in subjects:\n",
    "        print(f'Running for subject {subj}')\n",
    "\n",
    "        # Set data directories based on parameters\n",
    "        output_dir = f'{exp_output_dir}/{layer_name}'\n",
    "        dataset = NSDDataset(challenge_data_dir, output_dir, subj)\n",
    "\n",
    "        print('Loading datasets...')\n",
    "        train_ds, val_ds, test_ds = load_datasets(dataset, transform_image)\n",
    "        print('Datasets loaded')\n",
    "\n",
    "        # Load model for the iteration\n",
    "        model = load_model(layer_name)\n",
    "        \n",
    "        # Train PCA\n",
    "        print('Training PCA...')\n",
    "        pca = train_pca(model, train_ds)\n",
    "        print('PCA over')\n",
    "\n",
    "        # Extract and transform features\n",
    "        print('Extracting and transforming features...')\n",
    "        train_features = extract_and_transform_features(train_ds, model, pca)\n",
    "        val_features = extract_and_transform_features(val_ds, model, pca)\n",
    "        test_features = extract_and_transform_features(test_ds, model, pca)\n",
    "        print('Features extracted and transformed')\n",
    "\n",
    "        # Delete model to free up memory\n",
    "        del model, pca\n",
    "\n",
    "        # Fit regression\n",
    "        print('Fitting regression...')\n",
    "        reg_lh = LinearRegression().fit(train_features, dataset.lh_fmri_train)\n",
    "        reg_rh = LinearRegression().fit(train_features, dataset.rh_fmri_train)\n",
    "        print('Regression fitted')\n",
    "        \n",
    "        # Use fitted linear regressions to predict the validation and test fMRI data\n",
    "        print('Predicting fMRI data...')\n",
    "        lh_fmri_val_pred = reg_lh.predict(val_features)\n",
    "        lh_fmri_test_pred = reg_lh.predict(test_features)\n",
    "        rh_fmri_val_pred = reg_rh.predict(val_features)\n",
    "        rh_fmri_test_pred = reg_rh.predict(test_features)\n",
    "        print('fMRI data predicted')\n",
    "        # Calculate correlations for each hemispher\n",
    "        print('Calculating correlations...')\n",
    "        lh_correlation = corr.calculate_correlation(lh_fmri_val_pred, dataset.lh_fmri_val)\n",
    "        rh_correlation = corr.calculate_correlation(rh_fmri_val_pred, dataset.rh_fmri_val)  \n",
    "        print('Correlations calculated')\n",
    "    \n",
    "        corr.plot_and_write_correlations(dataset, lh_correlation, rh_correlation, exp_output_dir, layer_name, subj)\n",
    "        # Save test predictions\n",
    "        np.save(os.path.join(dataset.subject_submission_dir, 'lh_pred_test.npy'), lh_fmri_test_pred)\n",
    "        np.save(os.path.join(dataset.subject_submission_dir, 'rh_pred_test.npy'), rh_fmri_test_pred)"
   ]
  }
 ],
 "metadata": {
  "kernelspec": {
   "display_name": "Python 3 (ipykernel)",
   "language": "python",
   "name": "python3"
  },
  "language_info": {
   "codemirror_mode": {
    "name": "ipython",
    "version": 3
   },
   "file_extension": ".py",
   "mimetype": "text/x-python",
   "name": "python",
   "nbconvert_exporter": "python",
   "pygments_lexer": "ipython3",
   "version": "3.9.16"
  },
  "orig_nbformat": 4,
  "vscode": {
   "interpreter": {
    "hash": "365c028d1c840c93b0f470009ef966704a741407ca08d29f5bd0c0c6373757cf"
   }
  }
 },
 "nbformat": 4,
 "nbformat_minor": 2
}
