{
 "cells": [
  {
   "cell_type": "code",
   "execution_count": 1,
   "metadata": {},
   "outputs": [],
   "source": [
    "from src.algonauts.models import model_loaders"
   ]
  },
  {
   "cell_type": "code",
   "execution_count": 2,
   "metadata": {},
   "outputs": [],
   "source": [
    "experiment = 'vgg_imagenet'\n",
    "batch_size = 300"
   ]
  },
  {
   "cell_type": "code",
   "execution_count": 3,
   "metadata": {},
   "outputs": [],
   "source": [
    "platform = 'jupyter_notebook' #@param ['colab', 'paperspace'] {allow-input: true}\n",
    "challenge_data_dir = '../data/algonauts_2023_challenge_data'\n",
    "exp_output_dir = f'../data/out/{experiment}'\n",
    "\n",
    "if platform == 'paperspace':\n",
    "    challenge_data_dir = '/storage/algonauts_2023_challenge_data'\n",
    "    exp_output_dir = f'/notebooks/data/out/{experiment}'"
   ]
  },
  {
   "attachments": {},
   "cell_type": "markdown",
   "metadata": {},
   "source": [
    "## Specify model and appropriate image preprocessing steps\n",
    "Define a function to load and return the model, printing its layers.\n",
    "Here we first load the model and print its nodes"
   ]
  },
  {
   "attachments": {},
   "cell_type": "markdown",
   "metadata": {},
   "source": [
    "### Choose to load a pretrained model from keras.applications"
   ]
  },
  {
   "cell_type": "code",
   "execution_count": 4,
   "metadata": {},
   "outputs": [],
   "source": [
    "model_loader = lambda: model_loaders.load_vgg16()"
   ]
  },
  {
   "attachments": {},
   "cell_type": "markdown",
   "metadata": {},
   "source": [
    "### Or choose to load a model from file"
   ]
  },
  {
   "cell_type": "code",
   "execution_count": null,
   "metadata": {},
   "outputs": [],
   "source": [
    "model_filename = 'model.h5'\n",
    "model_loader = lambda: model_loaders.load_from_file(model_filename)"
   ]
  },
  {
   "attachments": {},
   "cell_type": "markdown",
   "metadata": {},
   "source": [
    "### Print the model layers"
   ]
  },
  {
   "cell_type": "code",
   "execution_count": 5,
   "metadata": {},
   "outputs": [
    {
     "name": "stdout",
     "output_type": "stream",
     "text": [
      "input_1 -> block1_conv1 -> block1_conv2 -> block1_pool -> block2_conv1 -> block2_conv2 -> block2_pool -> block3_conv1 -> block3_conv2 -> block3_conv3 -> block3_pool -> block4_conv1 -> block4_conv2 -> block4_conv3 -> block4_pool -> block5_conv1 -> block5_conv2 -> block5_conv3 -> block5_pool\n"
     ]
    }
   ],
   "source": [
    "model, _ = model_loader()\n",
    "print(*(layer.name for layer in model.layers), sep=' -> ')\n",
    "del model"
   ]
  },
  {
   "cell_type": "markdown",
   "metadata": {},
   "source": [
    "## Select layers and subjects\n",
    "Now let's define which layer(s) we will pick from, and which subject(s) to process"
   ]
  },
  {
   "cell_type": "code",
   "execution_count": 6,
   "metadata": {},
   "outputs": [],
   "source": [
    "layers = ['block1_pool']\n",
    "subjects = [\n",
    "    1, \n",
    "    # 2, 3, 4, 5, 6, 7, 8\n",
    "    ]\n"
   ]
  },
  {
   "cell_type": "markdown",
   "metadata": {},
   "source": [
    "## Run pipeline"
   ]
  },
  {
   "cell_type": "code",
   "execution_count": 7,
   "metadata": {},
   "outputs": [
    {
     "name": "stdout",
     "output_type": "stream",
     "text": [
      "Running for layer block1_pool\n",
      "Running for subject 1\n",
      "Training images: 9841\n",
      "Test images: 159\n",
      "LH training fMRI data shape:\n",
      "(9841, 19004)\n",
      "(Training stimulus images × LH vertices)\n",
      "\n",
      "RH training fMRI data shape:\n",
      "(9841, 20544)\n",
      "(Training stimulus images × RH vertices)\n",
      "Training images: 9841\n",
      "Test images: 159\n",
      "Training stimulus images: 8856\n",
      "\n",
      "Validation stimulus images: 985\n",
      "\n",
      "Test stimulus images: 159\n",
      "Loading datasets...\n",
      "Datasets loaded\n",
      "Training PCA...\n"
     ]
    }
   ],
   "source": [
    "from src.algonauts.pipelines.tf_pipeline import run_tf_pipeline\n",
    "\n",
    "run_tf_pipeline(batch_size=batch_size, model_loader=model_loader, layers=layers, subjects=subjects,\n",
    "                challenge_data_dir=challenge_data_dir,\n",
    "                exp_output_dir=exp_output_dir)"
   ]
  },
  {
   "cell_type": "markdown",
   "source": [
    "## Print best layers"
   ],
   "metadata": {
    "collapsed": false
   }
  },
  {
   "cell_type": "code",
   "execution_count": 38,
   "metadata": {},
   "outputs": [
    {
     "name": "stdout",
     "output_type": "stream",
     "text": [
      "{\n",
      "  \"LH\": {\n",
      "    \"V1v\": {\n",
      "      \"layer\": \"block2_pool\",\n",
      "      \"value\": 0.5905791030486138\n",
      "    },\n",
      "    \"V1d\": {\n",
      "      \"layer\": \"block2_pool\",\n",
      "      \"value\": 0.5990486552463073\n",
      "    },\n",
      "    \"V2v\": {\n",
      "      \"layer\": \"block3_pool\",\n",
      "      \"value\": 0.5282678641036374\n",
      "    },\n",
      "    \"V2d\": {\n",
      "      \"layer\": \"block3_pool\",\n",
      "      \"value\": 0.5175909098720242\n",
      "    },\n",
      "    \"V3v\": {\n",
      "      \"layer\": \"block3_pool\",\n",
      "      \"value\": 0.5141076787726454\n",
      "    },\n",
      "    \"V3d\": {\n",
      "      \"layer\": \"block4_pool\",\n",
      "      \"value\": 0.5065629532466085\n",
      "    },\n",
      "    \"hV4\": {\n",
      "      \"layer\": \"block4_pool\",\n",
      "      \"value\": 0.44591214364383464\n",
      "    },\n",
      "    \"EBA\": {\n",
      "      \"layer\": \"block5_pool\",\n",
      "      \"value\": 0.4846002619845918\n",
      "    },\n",
      "    \"FBA-1\": {\n",
      "      \"layer\": \"block5_pool\",\n",
      "      \"value\": 0.4077181141971304\n",
      "    },\n",
      "    \"FBA-2\": {\n",
      "      \"layer\": null,\n",
      "      \"value\": null\n",
      "    },\n",
      "    \"mTL-bodies\": {\n",
      "      \"layer\": null,\n",
      "      \"value\": null\n",
      "    },\n",
      "    \"OFA\": {\n",
      "      \"layer\": \"block4_pool\",\n",
      "      \"value\": 0.43446271378361234\n",
      "    },\n",
      "    \"FFA-1\": {\n",
      "      \"layer\": \"block5_pool\",\n",
      "      \"value\": 0.47813203915081814\n",
      "    },\n",
      "    \"FFA-2\": {\n",
      "      \"layer\": null,\n",
      "      \"value\": null\n",
      "    },\n",
      "    \"mTL-faces\": {\n",
      "      \"layer\": null,\n",
      "      \"value\": null\n",
      "    },\n",
      "    \"aTL-faces\": {\n",
      "      \"layer\": null,\n",
      "      \"value\": null\n",
      "    },\n",
      "    \"OPA\": {\n",
      "      \"layer\": \"block5_pool\",\n",
      "      \"value\": 0.4635288543601275\n",
      "    },\n",
      "    \"PPA\": {\n",
      "      \"layer\": \"block5_pool\",\n",
      "      \"value\": 0.45243649416808523\n",
      "    },\n",
      "    \"RSC\": {\n",
      "      \"layer\": \"block5_pool\",\n",
      "      \"value\": 0.5647854640407909\n",
      "    },\n",
      "    \"OWFA\": {\n",
      "      \"layer\": \"block4_pool\",\n",
      "      \"value\": 0.4403960309667769\n",
      "    },\n",
      "    \"VWFA-1\": {\n",
      "      \"layer\": \"block5_pool\",\n",
      "      \"value\": 0.39514660200442236\n",
      "    },\n",
      "    \"VWFA-2\": {\n",
      "      \"layer\": \"block5_pool\",\n",
      "      \"value\": 0.29124631654009503\n",
      "    },\n",
      "    \"mfs-words\": {\n",
      "      \"layer\": \"block5_pool\",\n",
      "      \"value\": 0.33307782920377954\n",
      "    },\n",
      "    \"mTL-words\": {\n",
      "      \"layer\": null,\n",
      "      \"value\": null\n",
      "    },\n",
      "    \"early\": {\n",
      "      \"layer\": \"block3_pool\",\n",
      "      \"value\": 0.48535367849473543\n",
      "    },\n",
      "    \"midventral\": {\n",
      "      \"layer\": \"block4_pool\",\n",
      "      \"value\": 0.4509723722235723\n",
      "    },\n",
      "    \"midlateral\": {\n",
      "      \"layer\": \"block4_pool\",\n",
      "      \"value\": 0.4119562613559015\n",
      "    },\n",
      "    \"midparietal\": {\n",
      "      \"layer\": \"block4_pool\",\n",
      "      \"value\": 0.47420258748392696\n",
      "    },\n",
      "    \"ventral\": {\n",
      "      \"layer\": \"block5_pool\",\n",
      "      \"value\": 0.3921019226381709\n",
      "    },\n",
      "    \"lateral\": {\n",
      "      \"layer\": \"block5_pool\",\n",
      "      \"value\": 0.4800048953552641\n",
      "    },\n",
      "    \"parietal\": {\n",
      "      \"layer\": \"block5_pool\",\n",
      "      \"value\": 0.40883674192451813\n",
      "    },\n",
      "    \"All vertices\": {\n",
      "      \"layer\": \"block4_pool\",\n",
      "      \"value\": 0.4139067778985958\n",
      "    }\n",
      "  },\n",
      "  \"RH\": {\n",
      "    \"V1v\": {\n",
      "      \"layer\": \"block2_pool\",\n",
      "      \"value\": 0.5805181756669613\n",
      "    },\n",
      "    \"V1d\": {\n",
      "      \"layer\": \"block2_pool\",\n",
      "      \"value\": 0.5851275998692367\n",
      "    },\n",
      "    \"V2v\": {\n",
      "      \"layer\": \"block3_pool\",\n",
      "      \"value\": 0.5686585857121095\n",
      "    },\n",
      "    \"V2d\": {\n",
      "      \"layer\": \"block4_pool\",\n",
      "      \"value\": 0.5609733755006775\n",
      "    },\n",
      "    \"V3v\": {\n",
      "      \"layer\": \"block4_pool\",\n",
      "      \"value\": 0.5119499674719273\n",
      "    },\n",
      "    \"V3d\": {\n",
      "      \"layer\": \"block4_pool\",\n",
      "      \"value\": 0.5151066375578838\n",
      "    },\n",
      "    \"hV4\": {\n",
      "      \"layer\": \"block4_pool\",\n",
      "      \"value\": 0.48961573812595627\n",
      "    },\n",
      "    \"EBA\": {\n",
      "      \"layer\": \"block5_pool\",\n",
      "      \"value\": 0.4822663700000454\n",
      "    },\n",
      "    \"FBA-1\": {\n",
      "      \"layer\": \"block4_pool\",\n",
      "      \"value\": 0.36988531367244193\n",
      "    },\n",
      "    \"FBA-2\": {\n",
      "      \"layer\": \"block5_pool\",\n",
      "      \"value\": 0.4628685204806653\n",
      "    },\n",
      "    \"mTL-bodies\": {\n",
      "      \"layer\": null,\n",
      "      \"value\": null\n",
      "    },\n",
      "    \"OFA\": {\n",
      "      \"layer\": \"block4_pool\",\n",
      "      \"value\": 0.40641462406129836\n",
      "    },\n",
      "    \"FFA-1\": {\n",
      "      \"layer\": \"block5_pool\",\n",
      "      \"value\": 0.4267493564860309\n",
      "    },\n",
      "    \"FFA-2\": {\n",
      "      \"layer\": \"block5_pool\",\n",
      "      \"value\": 0.5508115593284029\n",
      "    },\n",
      "    \"mTL-faces\": {\n",
      "      \"layer\": null,\n",
      "      \"value\": null\n",
      "    },\n",
      "    \"aTL-faces\": {\n",
      "      \"layer\": null,\n",
      "      \"value\": null\n",
      "    },\n",
      "    \"OPA\": {\n",
      "      \"layer\": \"block5_pool\",\n",
      "      \"value\": 0.42695924580023425\n",
      "    },\n",
      "    \"PPA\": {\n",
      "      \"layer\": \"block5_pool\",\n",
      "      \"value\": 0.5168665400732207\n",
      "    },\n",
      "    \"RSC\": {\n",
      "      \"layer\": \"block5_pool\",\n",
      "      \"value\": 0.5307699674909476\n",
      "    },\n",
      "    \"OWFA\": {\n",
      "      \"layer\": \"block4_pool\",\n",
      "      \"value\": 0.38254402945690213\n",
      "    },\n",
      "    \"VWFA-1\": {\n",
      "      \"layer\": \"block5_pool\",\n",
      "      \"value\": 0.47109845382754123\n",
      "    },\n",
      "    \"VWFA-2\": {\n",
      "      \"layer\": \"block5_pool\",\n",
      "      \"value\": 0.3554232780325516\n",
      "    },\n",
      "    \"mfs-words\": {\n",
      "      \"layer\": null,\n",
      "      \"value\": null\n",
      "    },\n",
      "    \"mTL-words\": {\n",
      "      \"layer\": null,\n",
      "      \"value\": null\n",
      "    },\n",
      "    \"early\": {\n",
      "      \"layer\": \"block3_pool\",\n",
      "      \"value\": 0.4929368762787638\n",
      "    },\n",
      "    \"midventral\": {\n",
      "      \"layer\": \"block4_pool\",\n",
      "      \"value\": 0.4357688748101849\n",
      "    },\n",
      "    \"midlateral\": {\n",
      "      \"layer\": \"block4_pool\",\n",
      "      \"value\": 0.4218590697034337\n",
      "    },\n",
      "    \"midparietal\": {\n",
      "      \"layer\": \"block4_pool\",\n",
      "      \"value\": 0.4267432791472524\n",
      "    },\n",
      "    \"ventral\": {\n",
      "      \"layer\": \"block5_pool\",\n",
      "      \"value\": 0.4541174006589327\n",
      "    },\n",
      "    \"lateral\": {\n",
      "      \"layer\": \"block5_pool\",\n",
      "      \"value\": 0.4399956095988502\n",
      "    },\n",
      "    \"parietal\": {\n",
      "      \"layer\": \"block5_pool\",\n",
      "      \"value\": 0.3688299188700996\n",
      "    },\n",
      "    \"All vertices\": {\n",
      "      \"layer\": \"block4_pool\",\n",
      "      \"value\": 0.41940475057257726\n",
      "    }\n",
      "  }\n",
      "}\n"
     ]
    }
   ],
   "source": [
    "import json\n",
    "from src.algonauts.evaluators.correlations import find_best_correlations\n",
    "\n",
    "subj = 1\n",
    "result = find_best_correlations(f'{exp_output_dir}/results.json', subj)\n",
    "print(json.dumps(result, indent=2))\n"
   ]
  }
 ],
 "metadata": {
  "kernelspec": {
   "display_name": "Python 3 (ipykernel)",
   "language": "python",
   "name": "python3"
  },
  "language_info": {
   "codemirror_mode": {
    "name": "ipython",
    "version": 3
   },
   "file_extension": ".py",
   "mimetype": "text/x-python",
   "name": "python",
   "nbconvert_exporter": "python",
   "pygments_lexer": "ipython3",
   "version": "3.9.16"
  },
  "orig_nbformat": 4,
  "vscode": {
   "interpreter": {
    "hash": "365c028d1c840c93b0f470009ef966704a741407ca08d29f5bd0c0c6373757cf"
   }
  }
 },
 "nbformat": 4,
 "nbformat_minor": 2
}
